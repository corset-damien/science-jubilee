{
 "cells": [
  {
   "cell_type": "markdown",
   "id": "51f1ec8c",
   "metadata": {},
   "source": [
    "# JubileeManager: Comprehensive Test Suite\n",
    "\n",
    "This notebook provides a **comprehensive, professional test suite** for the `JubileeManager` class, focusing on tool and deck management.\n",
    "\n",
    "> **Warning:** This notebook will interact with the machine and may move hardware. **Ensure the machine is clear, safe, and attended before running any cell.**\n",
    "\n",
    "All public methods up to and including deck management are tested, with clear explanations and result displays. Logging is set to INFO for concise output."
   ]
  },
  {
   "cell_type": "code",
   "execution_count": 1,
   "id": "85f930fe",
   "metadata": {},
   "outputs": [
    {
     "name": "stderr",
     "output_type": "stream",
     "text": [
      "2025-06-03 17:05:08 - [JubileeController]  - INFO - Initializing JubileeController (simulated=False, address=10.0.9.55)\n",
      "2025-06-03 17:05:08 - [JubileeController]  - WARNING - Disconnecting this application from the network will halt connection to Jubilee.\n",
      "2025-06-03 17:05:08 - [JubileeController]  - INFO - Connecting to Jubilee machine...\n",
      "2025-06-03 17:05:08 - [JubileeController]  - INFO - Successfully connected and initialized Jubilee machine.\n",
      "2025-06-03 17:05:08 - [JubileeManager]     - INFO - JubileeManager initialized (simulated=False, max_tools=4).\n"
     ]
    },
    {
     "name": "stdout",
     "output_type": "stream",
     "text": [
      "JubileeManager and controller initialized.\n"
     ]
    }
   ],
   "source": [
    " # --- Initialization and Logging ---\n",
    "from science_jubilee.JubileeManager import JubileeManager\n",
    "from science_jubilee.JubileeController import JubileeController\n",
    "from science_jubilee.tools.Tool import Tool\n",
    "import logging\n",
    "\n",
    "# Set logger to INFO for concise output\n",
    "logging.getLogger(\"JubileeManager\").setLevel(logging.INFO)\n",
    "logging.getLogger(\"JubileeController\").setLevel(logging.INFO)\n",
    "\n",
    "# Instantiate the controller and manager (real hardware)\n",
    "controller = JubileeController(address=\"10.0.9.55\", simulated=False)\n",
    "manager = JubileeManager(controller=controller)\n",
    "\n",
    "print(\"JubileeManager and controller initialized.\")"
   ]
  },
  {
   "cell_type": "markdown",
   "id": "fe36698e",
   "metadata": {
    "jp-MarkdownHeadingCollapsed": true
   },
   "source": [
    "## Deck Management\n",
    "\n",
    "Test loading, changing, unloading, and querying the deck."
   ]
  },
  {
   "cell_type": "code",
   "execution_count": 2,
   "id": "43a3ed8c",
   "metadata": {},
   "outputs": [
    {
     "name": "stderr",
     "output_type": "stream",
     "text": [
      "2025-06-03 17:05:10 - [Deck]               - INFO - Loading deck configuration from: c:\\users\\damie\\onedrive\\bureau\\stage_sony_csl_corset_damien\\science-jubilee\\src\\science_jubilee\\decks\\deck_definition\\experience1.json\n",
      "2025-06-03 17:05:10 - [Deck]               - INFO - Deck 'Experience1' loaded with 7 slots.\n",
      "2025-06-03 17:05:10 - [JubileeManager]     - INFO - Deck 'Experience1' loaded from 'c:\\users\\damie\\onedrive\\bureau\\stage_sony_csl_corset_damien\\science-jubilee\\src\\science_jubilee\\decks\\deck_definition'.\n"
     ]
    },
    {
     "name": "stdout",
     "output_type": "stream",
     "text": [
      "True\n"
     ]
    }
   ],
   "source": [
    "# --- Test: Load Deck ---\n",
    "# Replace 'example_deck.json' with a real deck file if available\n",
    "manager.load_deck(\"example_deck.json\")\n",
    "\n",
    "# --- Test: Is Deck Loaded ---\n",
    "print(manager.is_deck_loaded())"
   ]
  },
  {
   "cell_type": "code",
   "execution_count": 3,
   "id": "bd831258",
   "metadata": {},
   "outputs": [
    {
     "name": "stderr",
     "output_type": "stream",
     "text": [
      "2025-06-03 17:05:11 - [JubileeManager]     - INFO - Unloading deck 'Experience1'.\n",
      "2025-06-03 17:05:11 - [Deck]               - INFO - Loading deck configuration from: c:\\users\\damie\\onedrive\\bureau\\stage_sony_csl_corset_damien\\science-jubilee\\src\\science_jubilee\\decks\\deck_definition\\experience1.json\n",
      "2025-06-03 17:05:11 - [Deck]               - INFO - Deck 'Experience1' loaded with 7 slots.\n",
      "2025-06-03 17:05:11 - [JubileeManager]     - INFO - Deck 'Experience1' loaded from 'c:\\users\\damie\\onedrive\\bureau\\stage_sony_csl_corset_damien\\science-jubilee\\src\\science_jubilee\\decks\\deck_definition'.\n"
     ]
    }
   ],
   "source": [
    "# --- Test: Change Deck ---\n",
    "# Replace 'another_deck.json' with a real deck file if available\n",
    "deck2 = manager.change_deck(\"another_deck.json\")"
   ]
  },
  {
   "cell_type": "code",
   "execution_count": 4,
   "id": "b68a2fbe",
   "metadata": {},
   "outputs": [
    {
     "name": "stderr",
     "output_type": "stream",
     "text": [
      "2025-06-03 17:05:12 - [JubileeManager]     - INFO - Unloading deck 'Experience1'.\n"
     ]
    },
    {
     "name": "stdout",
     "output_type": "stream",
     "text": [
      "False\n"
     ]
    }
   ],
   "source": [
    "# --- Test: Unload Deck ---\n",
    "manager.unload_deck()\n",
    "print(manager.is_deck_loaded())"
   ]
  },
  {
   "cell_type": "markdown",
   "id": "cbc09292",
   "metadata": {
    "jp-MarkdownHeadingCollapsed": true
   },
   "source": [
    "## Tool Management\n",
    "\n",
    "Test all public tool management methods of `JubileeManager` one by one, with clear explanations and result displays."
   ]
  },
  {
   "cell_type": "code",
   "execution_count": 5,
   "id": "bb9758b2",
   "metadata": {},
   "outputs": [
    {
     "name": "stderr",
     "output_type": "stream",
     "text": [
      "2025-06-03 17:05:14 - [Tool]               - INFO - Tool 'PipetteA' (index 0) initialized.\n",
      "2025-06-03 17:05:14 - [Tool]               - INFO - Tool 'PipetteB' (index 1) initialized.\n",
      "2025-06-03 17:05:14 - [Tool]               - INFO - Tool 'PipetteC' (index 2) initialized.\n",
      "2025-06-03 17:05:14 - [JubileeManager]     - INFO - Tool 'PipetteA' loaded at index 0.\n",
      "2025-06-03 17:05:14 - [JubileeManager]     - INFO - Tool 'PipetteB' loaded at index 1.\n"
     ]
    }
   ],
   "source": [
    "# --- Test: Load Tool ---\n",
    "from science_jubilee.tools.Tool import Tool\n",
    "\n",
    "tool_a = Tool(index=0, name=\"PipetteA\")\n",
    "tool_b = Tool(index=1, name=\"PipetteB\")\n",
    "tool_c = Tool(index=2, name=\"PipetteC\")\n",
    "\n",
    "manager.load_tool(tool_a, 0)\n",
    "manager.load_tool(tool_b, 1)"
   ]
  },
  {
   "cell_type": "code",
   "execution_count": 6,
   "id": "36962dfc",
   "metadata": {},
   "outputs": [
    {
     "name": "stdout",
     "output_type": "stream",
     "text": [
      "True\n",
      "False\n"
     ]
    }
   ],
   "source": [
    "# --- Test: is_tool_loaded ---\n",
    "print(manager.is_tool_loaded(0))\n",
    "print(manager.is_tool_loaded(2))"
   ]
  },
  {
   "cell_type": "code",
   "execution_count": 7,
   "id": "e9731ccd",
   "metadata": {},
   "outputs": [
    {
     "data": {
      "text/plain": [
       "[{'index': 0, 'name': 'PipetteA'}, {'index': 1, 'name': 'PipetteB'}]"
      ]
     },
     "execution_count": 7,
     "metadata": {},
     "output_type": "execute_result"
    }
   ],
   "source": [
    "# --- Test: get_loaded_tools ---\n",
    "manager.get_loaded_tools()"
   ]
  },
  {
   "cell_type": "code",
   "execution_count": 8,
   "id": "b25dca04",
   "metadata": {},
   "outputs": [
    {
     "name": "stdout",
     "output_type": "stream",
     "text": [
      "{'index': 0, 'name': 'PipetteA', 'tool': <Tool name='PipetteA' index=0>}\n"
     ]
    }
   ],
   "source": [
    "# --- Test: get_tool ---\n",
    "tool_info_0 = manager.get_tool(0)\n",
    "print(tool_info_0)"
   ]
  },
  {
   "cell_type": "code",
   "execution_count": 9,
   "id": "048048ae",
   "metadata": {},
   "outputs": [
    {
     "name": "stdout",
     "output_type": "stream",
     "text": [
      "{'index': 1, 'name': 'PipetteB', 'tool': <Tool name='PipetteB' index=1>}\n"
     ]
    }
   ],
   "source": [
    "# --- Test: get_tool_by_name ---\n",
    "tool_info_b = manager.get_tool_by_name(\"PipetteB\")\n",
    "print(tool_info_b)"
   ]
  },
  {
   "cell_type": "code",
   "execution_count": 10,
   "id": "5be2105b",
   "metadata": {},
   "outputs": [
    {
     "name": "stderr",
     "output_type": "stream",
     "text": [
      "2025-06-03 17:06:05 - [JubileeManager]     - INFO - Tool 'PipetteB' replaced by 'PipetteC' at index 1.\n"
     ]
    },
    {
     "name": "stdout",
     "output_type": "stream",
     "text": [
      "[{'index': 0, 'name': 'PipetteA'}, {'index': 1, 'name': 'PipetteC'}]\n"
     ]
    }
   ],
   "source": [
    "# --- Test: change_tool ---\n",
    "manager.change_tool(tool_c, 1)\n",
    "print(manager.get_loaded_tools())"
   ]
  },
  {
   "cell_type": "code",
   "execution_count": 11,
   "id": "45898bd1",
   "metadata": {},
   "outputs": [
    {
     "name": "stderr",
     "output_type": "stream",
     "text": [
      "2025-06-03 17:06:11 - [JubileeManager]     - INFO - Tool 'PipetteA' unloaded from index 0.\n"
     ]
    },
    {
     "name": "stdout",
     "output_type": "stream",
     "text": [
      "[{'index': 1, 'name': 'PipetteC'}]\n"
     ]
    }
   ],
   "source": [
    "# --- Test: unload_tool ---\n",
    "manager.unload_tool(0)\n",
    "print(manager.get_loaded_tools())"
   ]
  },
  {
   "cell_type": "code",
   "execution_count": 12,
   "id": "48264622",
   "metadata": {},
   "outputs": [
    {
     "name": "stderr",
     "output_type": "stream",
     "text": [
      "2025-06-03 17:06:14 - [JubileeManager]     - INFO - Tool 'PipetteC' unloaded from index 1.\n"
     ]
    },
    {
     "name": "stdout",
     "output_type": "stream",
     "text": [
      "[]\n"
     ]
    }
   ],
   "source": [
    "# --- Test: unload_all_tools ---\n",
    "manager.unload_all_tools()\n",
    "print(manager.get_loaded_tools())"
   ]
  },
  {
   "cell_type": "code",
   "execution_count": 13,
   "id": "f4ab6f31",
   "metadata": {},
   "outputs": [
    {
     "name": "stderr",
     "output_type": "stream",
     "text": [
      "2025-06-03 17:06:17 - [JubileeManager]     - ERROR - No tool loaded at index 0.\n"
     ]
    },
    {
     "ename": "ToolStateError",
     "evalue": "No tool loaded at index 0.",
     "output_type": "error",
     "traceback": [
      "\u001b[1;31m---------------------------------------------------------------------------\u001b[0m",
      "\u001b[1;31mToolStateError\u001b[0m                            Traceback (most recent call last)",
      "Cell \u001b[1;32mIn[13], line 2\u001b[0m\n\u001b[0;32m      1\u001b[0m \u001b[38;5;66;03m# --- Test: Error Handling for Tool Management ---\u001b[39;00m\n\u001b[1;32m----> 2\u001b[0m \u001b[43mmanager\u001b[49m\u001b[38;5;241;43m.\u001b[39;49m\u001b[43mget_tool\u001b[49m\u001b[43m(\u001b[49m\u001b[38;5;241;43m0\u001b[39;49m\u001b[43m)\u001b[49m\n",
      "File \u001b[1;32mc:\\users\\damie\\onedrive\\bureau\\stage_sony_csl_corset_damien\\science-jubilee\\src\\science_jubilee\\JubileeManager.py:278\u001b[0m, in \u001b[0;36mJubileeManager.get_tool\u001b[1;34m(self, index)\u001b[0m\n\u001b[0;32m    276\u001b[0m     \u001b[38;5;28;01mreturn\u001b[39;00m {\u001b[38;5;124m'\u001b[39m\u001b[38;5;124mindex\u001b[39m\u001b[38;5;124m'\u001b[39m: index, \u001b[38;5;124m'\u001b[39m\u001b[38;5;124mname\u001b[39m\u001b[38;5;124m'\u001b[39m: tool\u001b[38;5;241m.\u001b[39mname, \u001b[38;5;124m'\u001b[39m\u001b[38;5;124mtool\u001b[39m\u001b[38;5;124m'\u001b[39m: tool}\n\u001b[0;32m    277\u001b[0m logger\u001b[38;5;241m.\u001b[39merror(\u001b[38;5;124mf\u001b[39m\u001b[38;5;124m\"\u001b[39m\u001b[38;5;124mNo tool loaded at index \u001b[39m\u001b[38;5;132;01m{\u001b[39;00mindex\u001b[38;5;132;01m}\u001b[39;00m\u001b[38;5;124m.\u001b[39m\u001b[38;5;124m\"\u001b[39m)\n\u001b[1;32m--> 278\u001b[0m \u001b[38;5;28;01mraise\u001b[39;00m ToolStateError(\u001b[38;5;124mf\u001b[39m\u001b[38;5;124m\"\u001b[39m\u001b[38;5;124mNo tool loaded at index \u001b[39m\u001b[38;5;132;01m{\u001b[39;00mindex\u001b[38;5;132;01m}\u001b[39;00m\u001b[38;5;124m.\u001b[39m\u001b[38;5;124m\"\u001b[39m)\n",
      "\u001b[1;31mToolStateError\u001b[0m: No tool loaded at index 0."
     ]
    }
   ],
   "source": [
    "# --- Test: Error Handling for Tool Management ---\n",
    "manager.get_tool(0)"
   ]
  },
  {
   "cell_type": "code",
   "execution_count": 14,
   "id": "f62588b7-5559-4470-80b8-e80906c770a3",
   "metadata": {},
   "outputs": [
    {
     "name": "stderr",
     "output_type": "stream",
     "text": [
      "2025-06-03 17:06:18 - [JubileeManager]     - ERROR - No tool loaded at index 0 to unload.\n"
     ]
    },
    {
     "ename": "ToolStateError",
     "evalue": "No tool loaded at index 0 to unload.",
     "output_type": "error",
     "traceback": [
      "\u001b[1;31m---------------------------------------------------------------------------\u001b[0m",
      "\u001b[1;31mToolStateError\u001b[0m                            Traceback (most recent call last)",
      "Cell \u001b[1;32mIn[14], line 2\u001b[0m\n\u001b[0;32m      1\u001b[0m \u001b[38;5;66;03m# --- Test: Error Handling for Tool Management ---\u001b[39;00m\n\u001b[1;32m----> 2\u001b[0m \u001b[43mmanager\u001b[49m\u001b[38;5;241;43m.\u001b[39;49m\u001b[43munload_tool\u001b[49m\u001b[43m(\u001b[49m\u001b[38;5;241;43m0\u001b[39;49m\u001b[43m)\u001b[49m\n",
      "File \u001b[1;32mc:\\users\\damie\\onedrive\\bureau\\stage_sony_csl_corset_damien\\science-jubilee\\src\\science_jubilee\\JubileeManager.py:201\u001b[0m, in \u001b[0;36mJubileeManager.unload_tool\u001b[1;34m(self, index)\u001b[0m\n\u001b[0;32m    199\u001b[0m \u001b[38;5;28;01mif\u001b[39;00m \u001b[38;5;129;01mnot\u001b[39;00m \u001b[38;5;28mself\u001b[39m\u001b[38;5;241m.\u001b[39mis_tool_loaded(index):\n\u001b[0;32m    200\u001b[0m     logger\u001b[38;5;241m.\u001b[39merror(\u001b[38;5;124mf\u001b[39m\u001b[38;5;124m\"\u001b[39m\u001b[38;5;124mNo tool loaded at index \u001b[39m\u001b[38;5;132;01m{\u001b[39;00mindex\u001b[38;5;132;01m}\u001b[39;00m\u001b[38;5;124m to unload.\u001b[39m\u001b[38;5;124m\"\u001b[39m)\n\u001b[1;32m--> 201\u001b[0m     \u001b[38;5;28;01mraise\u001b[39;00m ToolStateError(\u001b[38;5;124mf\u001b[39m\u001b[38;5;124m\"\u001b[39m\u001b[38;5;124mNo tool loaded at index \u001b[39m\u001b[38;5;132;01m{\u001b[39;00mindex\u001b[38;5;132;01m}\u001b[39;00m\u001b[38;5;124m to unload.\u001b[39m\u001b[38;5;124m\"\u001b[39m)\n\u001b[0;32m    202\u001b[0m tool_name \u001b[38;5;241m=\u001b[39m \u001b[38;5;28mself\u001b[39m\u001b[38;5;241m.\u001b[39mtools_list[index]\u001b[38;5;241m.\u001b[39mname\n\u001b[0;32m    203\u001b[0m \u001b[38;5;28mself\u001b[39m\u001b[38;5;241m.\u001b[39mtools_list[index] \u001b[38;5;241m=\u001b[39m \u001b[38;5;28;01mNone\u001b[39;00m\n",
      "\u001b[1;31mToolStateError\u001b[0m: No tool loaded at index 0 to unload."
     ]
    }
   ],
   "source": [
    "# --- Test: Error Handling for Tool Management ---\n",
    "manager.unload_tool(0)"
   ]
  },
  {
   "cell_type": "code",
   "execution_count": 15,
   "id": "f43ae3c3-8103-4d6a-ac33-0551fb85dc70",
   "metadata": {},
   "outputs": [
    {
     "name": "stderr",
     "output_type": "stream",
     "text": [
      "2025-06-03 17:06:19 - [JubileeManager]     - ERROR - No tool loaded with name 'NonExistent'.\n"
     ]
    },
    {
     "ename": "ToolStateError",
     "evalue": "No tool loaded with name 'NonExistent'.",
     "output_type": "error",
     "traceback": [
      "\u001b[1;31m---------------------------------------------------------------------------\u001b[0m",
      "\u001b[1;31mToolStateError\u001b[0m                            Traceback (most recent call last)",
      "Cell \u001b[1;32mIn[15], line 2\u001b[0m\n\u001b[0;32m      1\u001b[0m \u001b[38;5;66;03m# --- Test: Error Handling for Tool Management ---\u001b[39;00m\n\u001b[1;32m----> 2\u001b[0m \u001b[43mmanager\u001b[49m\u001b[38;5;241;43m.\u001b[39;49m\u001b[43mget_tool_by_name\u001b[49m\u001b[43m(\u001b[49m\u001b[38;5;124;43m\"\u001b[39;49m\u001b[38;5;124;43mNonExistent\u001b[39;49m\u001b[38;5;124;43m\"\u001b[39;49m\u001b[43m)\u001b[49m\n",
      "File \u001b[1;32mc:\\users\\damie\\onedrive\\bureau\\stage_sony_csl_corset_damien\\science-jubilee\\src\\science_jubilee\\JubileeManager.py:294\u001b[0m, in \u001b[0;36mJubileeManager.get_tool_by_name\u001b[1;34m(self, tool_name)\u001b[0m\n\u001b[0;32m    292\u001b[0m         \u001b[38;5;28;01mreturn\u001b[39;00m {\u001b[38;5;124m'\u001b[39m\u001b[38;5;124mindex\u001b[39m\u001b[38;5;124m'\u001b[39m: idx, \u001b[38;5;124m'\u001b[39m\u001b[38;5;124mname\u001b[39m\u001b[38;5;124m'\u001b[39m: tool\u001b[38;5;241m.\u001b[39mname, \u001b[38;5;124m'\u001b[39m\u001b[38;5;124mtool\u001b[39m\u001b[38;5;124m'\u001b[39m: tool}\n\u001b[0;32m    293\u001b[0m logger\u001b[38;5;241m.\u001b[39merror(\u001b[38;5;124mf\u001b[39m\u001b[38;5;124m\"\u001b[39m\u001b[38;5;124mNo tool loaded with name \u001b[39m\u001b[38;5;124m'\u001b[39m\u001b[38;5;132;01m{\u001b[39;00mtool_name\u001b[38;5;132;01m}\u001b[39;00m\u001b[38;5;124m'\u001b[39m\u001b[38;5;124m.\u001b[39m\u001b[38;5;124m\"\u001b[39m)\n\u001b[1;32m--> 294\u001b[0m \u001b[38;5;28;01mraise\u001b[39;00m ToolStateError(\u001b[38;5;124mf\u001b[39m\u001b[38;5;124m\"\u001b[39m\u001b[38;5;124mNo tool loaded with name \u001b[39m\u001b[38;5;124m'\u001b[39m\u001b[38;5;132;01m{\u001b[39;00mtool_name\u001b[38;5;132;01m}\u001b[39;00m\u001b[38;5;124m'\u001b[39m\u001b[38;5;124m.\u001b[39m\u001b[38;5;124m\"\u001b[39m)\n",
      "\u001b[1;31mToolStateError\u001b[0m: No tool loaded with name 'NonExistent'."
     ]
    }
   ],
   "source": [
    "# --- Test: Error Handling for Tool Management ---\n",
    "manager.get_tool_by_name(\"NonExistent\")"
   ]
  },
  {
   "cell_type": "markdown",
   "id": "e8e86310",
   "metadata": {
    "jp-MarkdownHeadingCollapsed": true
   },
   "source": [
    "## Tool Offset Management\n",
    "\n",
    "Test setting and getting tool offsets in the manager."
   ]
  },
  {
   "cell_type": "code",
   "execution_count": 16,
   "id": "7432345b",
   "metadata": {},
   "outputs": [
    {
     "name": "stderr",
     "output_type": "stream",
     "text": [
      "2025-06-03 17:06:24 - [Tool]               - INFO - Tool 'PipetteA' (index 0) initialized.\n",
      "2025-06-03 17:06:24 - [Tool]               - INFO - Tool 'PipetteB' (index 1) initialized.\n",
      "2025-06-03 17:06:24 - [JubileeManager]     - INFO - Tool 'PipetteA' loaded at index 0.\n",
      "2025-06-03 17:06:24 - [JubileeManager]     - INFO - Tool 'PipetteB' loaded at index 1.\n",
      "2025-06-03 17:06:24 - [JubileeManager]     - INFO - Offset for tool at index 0 set to (0.0, 20.0, 0.0).\n",
      "2025-06-03 17:06:24 - [JubileeManager]     - INFO - Offset for tool at index 1 set to (0.0, 5.0, 0.0).\n"
     ]
    }
   ],
   "source": [
    "# --- Test: Set Tool Offset ---\n",
    "# Reload tools for offset tests\n",
    "from science_jubilee.tools.Tool import Tool\n",
    "\n",
    "tool_a = Tool(index=0, name=\"PipetteA\")\n",
    "tool_b = Tool(index=1, name=\"PipetteB\")\n",
    "manager.load_tool(tool_a, 0)\n",
    "manager.load_tool(tool_b, 1)\n",
    "\n",
    "# Set offsets for both tools\n",
    "manager.set_tool_offset(0, (0.0, 20.0, 0.0))\n",
    "manager.set_tool_offset(1, (0.0, 5.0, 0.0))"
   ]
  },
  {
   "cell_type": "code",
   "execution_count": 17,
   "id": "2d3f19ed",
   "metadata": {},
   "outputs": [
    {
     "name": "stdout",
     "output_type": "stream",
     "text": [
      "Offset for tool 0: (0.0, 20.0, 0.0)\n",
      "Offset for tool 1: (0.0, 5.0, 0.0)\n"
     ]
    }
   ],
   "source": [
    "# --- Test: Get Tool Offset ---\n",
    "offset_a = manager.get_tool_offset(0)\n",
    "offset_b = manager.get_tool_offset(1)\n",
    "print(f\"Offset for tool 0: {offset_a}\")\n",
    "print(f\"Offset for tool 1: {offset_b}\")"
   ]
  },
  {
   "cell_type": "code",
   "execution_count": 18,
   "id": "6f57994f",
   "metadata": {},
   "outputs": [
    {
     "name": "stderr",
     "output_type": "stream",
     "text": [
      "2025-06-03 17:06:42 - [Tool]               - INFO - Tool 'PipetteC' (index 2) initialized.\n",
      "2025-06-03 17:06:42 - [JubileeManager]     - INFO - Tool 'PipetteC' loaded at index 2.\n"
     ]
    },
    {
     "name": "stdout",
     "output_type": "stream",
     "text": [
      "Offset for tool 2 (default): (0.0, 0.0, 0.0)\n"
     ]
    }
   ],
   "source": [
    "# --- Test: Get Tool Offset for Unset Tool (should be default) ---\n",
    "# Load a third tool without setting offset\n",
    "from science_jubilee.tools.Tool import Tool\n",
    "\n",
    "tool_c = Tool(index=2, name=\"PipetteC\")\n",
    "manager.load_tool(tool_c, 2)\n",
    "offset_c = manager.get_tool_offset(2)\n",
    "print(f\"Offset for tool 2 (default): {offset_c}\")"
   ]
  },
  {
   "cell_type": "code",
   "execution_count": 19,
   "id": "b1cac500",
   "metadata": {},
   "outputs": [
    {
     "name": "stderr",
     "output_type": "stream",
     "text": [
      "2025-06-03 17:07:04 - [JubileeManager]     - ERROR - No tool loaded at index 3 to set offset.\n"
     ]
    },
    {
     "ename": "ToolStateError",
     "evalue": "No tool loaded at index 3 to set offset.",
     "output_type": "error",
     "traceback": [
      "\u001b[1;31m---------------------------------------------------------------------------\u001b[0m",
      "\u001b[1;31mToolStateError\u001b[0m                            Traceback (most recent call last)",
      "Cell \u001b[1;32mIn[19], line 3\u001b[0m\n\u001b[0;32m      1\u001b[0m \u001b[38;5;66;03m# --- Test: Set Tool Offset Error Handling ---\u001b[39;00m\n\u001b[0;32m      2\u001b[0m \u001b[38;5;66;03m# Try to set offset for a non-loaded tool (should raise)\u001b[39;00m\n\u001b[1;32m----> 3\u001b[0m \u001b[43mmanager\u001b[49m\u001b[38;5;241;43m.\u001b[39;49m\u001b[43mset_tool_offset\u001b[49m\u001b[43m(\u001b[49m\u001b[38;5;241;43m3\u001b[39;49m\u001b[43m,\u001b[49m\u001b[43m \u001b[49m\u001b[43m(\u001b[49m\u001b[38;5;241;43m1.0\u001b[39;49m\u001b[43m,\u001b[49m\u001b[43m \u001b[49m\u001b[38;5;241;43m1.0\u001b[39;49m\u001b[43m,\u001b[49m\u001b[43m \u001b[49m\u001b[38;5;241;43m1.0\u001b[39;49m\u001b[43m)\u001b[49m\u001b[43m)\u001b[49m\n",
      "File \u001b[1;32mc:\\users\\damie\\onedrive\\bureau\\stage_sony_csl_corset_damien\\science-jubilee\\src\\science_jubilee\\JubileeManager.py:310\u001b[0m, in \u001b[0;36mJubileeManager.set_tool_offset\u001b[1;34m(self, index, offset)\u001b[0m\n\u001b[0;32m    308\u001b[0m \u001b[38;5;28;01mif\u001b[39;00m \u001b[38;5;129;01mnot\u001b[39;00m \u001b[38;5;28mself\u001b[39m\u001b[38;5;241m.\u001b[39mis_tool_loaded(index):\n\u001b[0;32m    309\u001b[0m     logger\u001b[38;5;241m.\u001b[39merror(\u001b[38;5;124mf\u001b[39m\u001b[38;5;124m\"\u001b[39m\u001b[38;5;124mNo tool loaded at index \u001b[39m\u001b[38;5;132;01m{\u001b[39;00mindex\u001b[38;5;132;01m}\u001b[39;00m\u001b[38;5;124m to set offset.\u001b[39m\u001b[38;5;124m\"\u001b[39m)\n\u001b[1;32m--> 310\u001b[0m     \u001b[38;5;28;01mraise\u001b[39;00m ToolStateError(\u001b[38;5;124mf\u001b[39m\u001b[38;5;124m\"\u001b[39m\u001b[38;5;124mNo tool loaded at index \u001b[39m\u001b[38;5;132;01m{\u001b[39;00mindex\u001b[38;5;132;01m}\u001b[39;00m\u001b[38;5;124m to set offset.\u001b[39m\u001b[38;5;124m\"\u001b[39m)\n\u001b[0;32m    311\u001b[0m \u001b[38;5;28mself\u001b[39m\u001b[38;5;241m.\u001b[39mtool_offsets[index] \u001b[38;5;241m=\u001b[39m offset\n\u001b[0;32m    312\u001b[0m logger\u001b[38;5;241m.\u001b[39minfo(\u001b[38;5;124mf\u001b[39m\u001b[38;5;124m\"\u001b[39m\u001b[38;5;124mOffset for tool at index \u001b[39m\u001b[38;5;132;01m{\u001b[39;00mindex\u001b[38;5;132;01m}\u001b[39;00m\u001b[38;5;124m set to \u001b[39m\u001b[38;5;132;01m{\u001b[39;00moffset\u001b[38;5;132;01m}\u001b[39;00m\u001b[38;5;124m.\u001b[39m\u001b[38;5;124m\"\u001b[39m)\n",
      "\u001b[1;31mToolStateError\u001b[0m: No tool loaded at index 3 to set offset."
     ]
    }
   ],
   "source": [
    "# --- Test: Set Tool Offset Error Handling ---\n",
    "# Try to set offset for a non-loaded tool (should raise)\n",
    "manager.set_tool_offset(3, (1.0, 1.0, 1.0))"
   ]
  },
  {
   "cell_type": "code",
   "execution_count": 20,
   "id": "c2d33793",
   "metadata": {},
   "outputs": [
    {
     "name": "stderr",
     "output_type": "stream",
     "text": [
      "2025-06-03 17:07:22 - [JubileeManager]     - ERROR - No tool loaded at index 3 to get offset.\n"
     ]
    },
    {
     "ename": "ToolStateError",
     "evalue": "No tool loaded at index 3 to get offset.",
     "output_type": "error",
     "traceback": [
      "\u001b[1;31m---------------------------------------------------------------------------\u001b[0m",
      "\u001b[1;31mToolStateError\u001b[0m                            Traceback (most recent call last)",
      "Cell \u001b[1;32mIn[20], line 3\u001b[0m\n\u001b[0;32m      1\u001b[0m \u001b[38;5;66;03m# --- Test: Get Tool Offset Error Handling ---\u001b[39;00m\n\u001b[0;32m      2\u001b[0m \u001b[38;5;66;03m# Try to get offset for a non-loaded tool (should raise)\u001b[39;00m\n\u001b[1;32m----> 3\u001b[0m \u001b[43mmanager\u001b[49m\u001b[38;5;241;43m.\u001b[39;49m\u001b[43mget_tool_offset\u001b[49m\u001b[43m(\u001b[49m\u001b[38;5;241;43m3\u001b[39;49m\u001b[43m)\u001b[49m\n",
      "File \u001b[1;32mc:\\users\\damie\\onedrive\\bureau\\stage_sony_csl_corset_damien\\science-jubilee\\src\\science_jubilee\\JubileeManager.py:326\u001b[0m, in \u001b[0;36mJubileeManager.get_tool_offset\u001b[1;34m(self, index)\u001b[0m\n\u001b[0;32m    324\u001b[0m \u001b[38;5;28;01mif\u001b[39;00m \u001b[38;5;129;01mnot\u001b[39;00m \u001b[38;5;28mself\u001b[39m\u001b[38;5;241m.\u001b[39mis_tool_loaded(index):\n\u001b[0;32m    325\u001b[0m     logger\u001b[38;5;241m.\u001b[39merror(\u001b[38;5;124mf\u001b[39m\u001b[38;5;124m\"\u001b[39m\u001b[38;5;124mNo tool loaded at index \u001b[39m\u001b[38;5;132;01m{\u001b[39;00mindex\u001b[38;5;132;01m}\u001b[39;00m\u001b[38;5;124m to get offset.\u001b[39m\u001b[38;5;124m\"\u001b[39m)\n\u001b[1;32m--> 326\u001b[0m     \u001b[38;5;28;01mraise\u001b[39;00m ToolStateError(\u001b[38;5;124mf\u001b[39m\u001b[38;5;124m\"\u001b[39m\u001b[38;5;124mNo tool loaded at index \u001b[39m\u001b[38;5;132;01m{\u001b[39;00mindex\u001b[38;5;132;01m}\u001b[39;00m\u001b[38;5;124m to get offset.\u001b[39m\u001b[38;5;124m\"\u001b[39m)\n\u001b[0;32m    327\u001b[0m \u001b[38;5;28;01mreturn\u001b[39;00m \u001b[38;5;28mself\u001b[39m\u001b[38;5;241m.\u001b[39mtool_offsets\u001b[38;5;241m.\u001b[39mget(index, (\u001b[38;5;241m0.0\u001b[39m, \u001b[38;5;241m0.0\u001b[39m, \u001b[38;5;241m0.0\u001b[39m))\n",
      "\u001b[1;31mToolStateError\u001b[0m: No tool loaded at index 3 to get offset."
     ]
    }
   ],
   "source": [
    "# --- Test: Get Tool Offset Error Handling ---\n",
    "# Try to get offset for a non-loaded tool (should raise)\n",
    "manager.get_tool_offset(3)"
   ]
  },
  {
   "cell_type": "markdown",
   "id": "87f84b6f",
   "metadata": {},
   "source": [
    "## All Methods Successfully Tested (Up to Tool Offset Management)\n",
    "\n",
    "If you see no errors above, all public methods of `JubileeManager` (up to tool offset management) are working correctly.\n",
    "\n",
    "---\n",
    "\n",
    "**For further tests (active tool, offsets, machine control, etc.), extend this notebook as needed.**"
   ]
  }
 ],
 "metadata": {
  "kernelspec": {
   "display_name": "Python 3 (ipykernel)",
   "language": "python",
   "name": "python3"
  },
  "language_info": {
   "codemirror_mode": {
    "name": "ipython",
    "version": 3
   },
   "file_extension": ".py",
   "mimetype": "text/x-python",
   "name": "python",
   "nbconvert_exporter": "python",
   "pygments_lexer": "ipython3",
   "version": "3.9.21"
  }
 },
 "nbformat": 4,
 "nbformat_minor": 5
}
