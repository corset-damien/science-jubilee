{
 "cells": [
  {
   "cell_type": "code",
   "execution_count": 1,
   "id": "5aa204a8-18ca-4554-9b16-edec745e0b81",
   "metadata": {},
   "outputs": [],
   "source": [
    "from science_jubilee.JubileeManager import JubileeManager\n",
    "from science_jubilee.tools.Tool import Tool"
   ]
  },
  {
   "cell_type": "code",
   "execution_count": 3,
   "id": "2bf1dc7d-2f2b-4ac6-8f3f-fde464a29b34",
   "metadata": {},
   "outputs": [
    {
     "name": "stderr",
     "output_type": "stream",
     "text": [
      "2025-06-02 12:18:21 - [JubileeController] - INFO - Initializing JubileeController (simulated=True, address=10.0.9.63)\n",
      "2025-06-02 12:18:21 - [JubileeController] - DEBUG - Simulation mode: HTTP session not created.\n",
      "2025-06-02 12:18:21 - [JubileeController] - WARNING - Disconnecting this application from the network will halt connection to Jubilee.\n",
      "2025-06-02 12:18:21 - [JubileeController] - INFO - Running in simulation mode. No connection established.\n",
      "2025-06-02 12:18:21 - [JubileeManager] - INFO - JubileeManager initialized (simulated=True).\n"
     ]
    }
   ],
   "source": [
    "jm = JubileeManager(address=\"10.0.9.55\", simulated=False)"
   ]
  },
  {
   "cell_type": "code",
   "execution_count": null,
   "id": "6de475d5-4691-4a5a-890e-9c40c5fc5840",
   "metadata": {},
   "outputs": [
    {
     "name": "stderr",
     "output_type": "stream",
     "text": [
      "2025-06-02 12:16:40 - [JubileeController] - INFO - Initializing JubileeController (simulated=False, address=10.0.9.63)\n",
      "2025-06-02 12:16:40 - [JubileeController] - DEBUG - HTTP session created with retry logic.\n",
      "2025-06-02 12:16:40 - [JubileeController] - WARNING - Disconnecting this application from the network will halt connection to Jubilee.\n",
      "2025-06-02 12:16:40 - [JubileeController] - INFO - Connecting to Jubilee machine...\n",
      "2025-06-02 12:16:40 - [JubileeController] - DEBUG - Sending G-code via /machine/code: M409 K\"move.axes[].homed\"\n",
      "2025-06-02 12:16:42 - [JubileeController] - WARNING - /machine/code endpoint failed: HTTPConnectionPool(host='10.0.9.63', port=80): Max retries exceeded with url: /machine/code (Caused by NewConnectionError('<urllib3.connection.HTTPConnection object at 0x0000023C1E7CD400>: Failed to establish a new connection: [WinError 10061] Aucune connexion n’a pu être établie car l’ordinateur cible l’a expressément refusée'))\n",
      "2025-06-02 12:16:57 - [JubileeController] - WARNING - G-code communication failed: HTTPConnectionPool(host='10.0.9.63', port=80): Max retries exceeded with url: /rr_model?key=seqs (Caused by NewConnectionError('<urllib3.connection.HTTPConnection object at 0x0000023C1F208070>: Failed to establish a new connection: [WinError 10061] Aucune connexion n’a pu être établie car l’ordinateur cible l’a expressément refusée'))\n",
      "2025-06-02 12:16:57 - [JubileeController] - WARNING - JSON command failed on attempt 1: G-code communication failed: HTTPConnectionPool(host='10.0.9.63', port=80): Max retries exceeded with url: /rr_model?key=seqs (Caused by NewConnectionError('<urllib3.connection.HTTPConnection object at 0x0000023C1F208070>: Failed to establish a new connection: [WinError 10061] Aucune connexion n’a pu être établie car l’ordinateur cible l’a expressément refusée'))\n",
      "2025-06-02 12:16:57 - [JubileeController] - DEBUG - Sending G-code via /machine/code: M409 K\"move.axes[].homed\"\n",
      "2025-06-02 12:16:59 - [JubileeController] - WARNING - /machine/code endpoint failed: HTTPConnectionPool(host='10.0.9.63', port=80): Max retries exceeded with url: /machine/code (Caused by NewConnectionError('<urllib3.connection.HTTPConnection object at 0x0000023C1F214DC0>: Failed to establish a new connection: [WinError 10061] Aucune connexion n’a pu être établie car l’ordinateur cible l’a expressément refusée'))\n",
      "2025-06-02 12:17:14 - [JubileeController] - WARNING - G-code communication failed: HTTPConnectionPool(host='10.0.9.63', port=80): Max retries exceeded with url: /rr_model?key=seqs (Caused by NewConnectionError('<urllib3.connection.HTTPConnection object at 0x0000023C1F208850>: Failed to establish a new connection: [WinError 10061] Aucune connexion n’a pu être établie car l’ordinateur cible l’a expressément refusée'))\n",
      "2025-06-02 12:17:14 - [JubileeController] - WARNING - JSON command failed on attempt 2: G-code communication failed: HTTPConnectionPool(host='10.0.9.63', port=80): Max retries exceeded with url: /rr_model?key=seqs (Caused by NewConnectionError('<urllib3.connection.HTTPConnection object at 0x0000023C1F208850>: Failed to establish a new connection: [WinError 10061] Aucune connexion n’a pu être établie car l’ordinateur cible l’a expressément refusée'))\n",
      "2025-06-02 12:17:15 - [JubileeController] - DEBUG - Sending G-code via /machine/code: M409 K\"move.axes[].homed\"\n",
      "2025-06-02 12:17:17 - [JubileeController] - WARNING - /machine/code endpoint failed: HTTPConnectionPool(host='10.0.9.63', port=80): Max retries exceeded with url: /machine/code (Caused by NewConnectionError('<urllib3.connection.HTTPConnection object at 0x0000023C1F202EE0>: Failed to establish a new connection: [WinError 10061] Aucune connexion n’a pu être établie car l’ordinateur cible l’a expressément refusée'))\n",
      "2025-06-02 12:17:32 - [JubileeController] - WARNING - G-code communication failed: HTTPConnectionPool(host='10.0.9.63', port=80): Max retries exceeded with url: /rr_model?key=seqs (Caused by NewConnectionError('<urllib3.connection.HTTPConnection object at 0x0000023C1E7CDBB0>: Failed to establish a new connection: [WinError 10061] Aucune connexion n’a pu être établie car l’ordinateur cible l’a expressément refusée'))\n",
      "2025-06-02 12:17:32 - [JubileeController] - WARNING - JSON command failed on attempt 3: G-code communication failed: HTTPConnectionPool(host='10.0.9.63', port=80): Max retries exceeded with url: /rr_model?key=seqs (Caused by NewConnectionError('<urllib3.connection.HTTPConnection object at 0x0000023C1E7CDBB0>: Failed to establish a new connection: [WinError 10061] Aucune connexion n’a pu être établie car l’ordinateur cible l’a expressément refusée'))\n",
      "2025-06-02 12:17:32 - [JubileeController] - DEBUG - Sending G-code via /machine/code: M409 K\"move.axes[].homed\"\n",
      "2025-06-02 12:17:34 - [JubileeController] - WARNING - /machine/code endpoint failed: HTTPConnectionPool(host='10.0.9.63', port=80): Max retries exceeded with url: /machine/code (Caused by NewConnectionError('<urllib3.connection.HTTPConnection object at 0x0000023C1F215A90>: Failed to establish a new connection: [WinError 10061] Aucune connexion n’a pu être établie car l’ordinateur cible l’a expressément refusée'))\n",
      "2025-06-02 12:17:49 - [JubileeController] - WARNING - G-code communication failed: HTTPConnectionPool(host='10.0.9.63', port=80): Max retries exceeded with url: /rr_model?key=seqs (Caused by NewConnectionError('<urllib3.connection.HTTPConnection object at 0x0000023C1E7CD040>: Failed to establish a new connection: [WinError 10061] Aucune connexion n’a pu être établie car l’ordinateur cible l’a expressément refusée'))\n",
      "2025-06-02 12:17:49 - [JubileeController] - WARNING - JSON command failed on attempt 4: G-code communication failed: HTTPConnectionPool(host='10.0.9.63', port=80): Max retries exceeded with url: /rr_model?key=seqs (Caused by NewConnectionError('<urllib3.connection.HTTPConnection object at 0x0000023C1E7CD040>: Failed to establish a new connection: [WinError 10061] Aucune connexion n’a pu être établie car l’ordinateur cible l’a expressément refusée'))\n",
      "2025-06-02 12:17:49 - [JubileeController] - DEBUG - Sending G-code via /machine/code: M409 K\"move.axes[].homed\"\n",
      "2025-06-02 12:17:51 - [JubileeController] - WARNING - /machine/code endpoint failed: HTTPConnectionPool(host='10.0.9.63', port=80): Max retries exceeded with url: /machine/code (Caused by NewConnectionError('<urllib3.connection.HTTPConnection object at 0x0000023C1F202A90>: Failed to establish a new connection: [WinError 10061] Aucune connexion n’a pu être établie car l’ordinateur cible l’a expressément refusée'))\n",
      "2025-06-02 12:18:06 - [JubileeController] - WARNING - G-code communication failed: HTTPConnectionPool(host='10.0.9.63', port=80): Max retries exceeded with url: /rr_model?key=seqs (Caused by NewConnectionError('<urllib3.connection.HTTPConnection object at 0x0000023C1F214DC0>: Failed to establish a new connection: [WinError 10061] Aucune connexion n’a pu être établie car l’ordinateur cible l’a expressément refusée'))\n",
      "2025-06-02 12:18:06 - [JubileeController] - WARNING - JSON command failed on attempt 5: G-code communication failed: HTTPConnectionPool(host='10.0.9.63', port=80): Max retries exceeded with url: /rr_model?key=seqs (Caused by NewConnectionError('<urllib3.connection.HTTPConnection object at 0x0000023C1F214DC0>: Failed to establish a new connection: [WinError 10061] Aucune connexion n’a pu être établie car l’ordinateur cible l’a expressément refusée'))\n",
      "2025-06-02 12:18:06 - [JubileeController] - DEBUG - Sending G-code via /machine/code: M409 K\"move.axes[].homed\"\n",
      "2025-06-02 12:18:09 - [JubileeController] - WARNING - /machine/code endpoint failed: HTTPConnectionPool(host='10.0.9.63', port=80): Max retries exceeded with url: /machine/code (Caused by NewConnectionError('<urllib3.connection.HTTPConnection object at 0x0000023C1F215550>: Failed to establish a new connection: [WinError 10061] Aucune connexion n’a pu être établie car l’ordinateur cible l’a expressément refusée'))\n"
     ]
    }
   ],
   "source": [
    "jm = JubileeManager(address=\"10.0.9.63\", simulated=False)"
   ]
  },
  {
   "cell_type": "markdown",
   "id": "bbc966ae-3149-4702-b161-c4fe717956d1",
   "metadata": {},
   "source": [
    "# Essai des fonctions Deck"
   ]
  },
  {
   "cell_type": "code",
   "execution_count": 4,
   "id": "961fddd4-5740-453a-ab13-e9c0033c0b0e",
   "metadata": {},
   "outputs": [
    {
     "name": "stderr",
     "output_type": "stream",
     "text": [
      "2025-06-02 12:06:04 - [Deck] - INFO - Loading deck configuration from: c:\\users\\damie\\onedrive\\bureau\\stage_sony_csl_corset_damien\\science-jubilee\\src\\science_jubilee\\decks\\deck_definition\\deck1.json\n",
      "2025-06-02 12:06:04 - [Deck] - INFO - Deck 'Deck1' loaded with 2 slots.\n",
      "2025-06-02 12:06:04 - [JubileeManager] - INFO - Deck 'Deck1' loaded from 'c:\\users\\damie\\onedrive\\bureau\\stage_sony_csl_corset_damien\\science-jubilee\\src\\science_jubilee\\decks\\deck_definition'.\n"
     ]
    },
    {
     "data": {
      "text/plain": [
       "<Deck name='Deck1', type='SLAS Non Official', slots=2>"
      ]
     },
     "execution_count": 4,
     "metadata": {},
     "output_type": "execute_result"
    }
   ],
   "source": [
    "jm.load_deck(\"deck1\")"
   ]
  },
  {
   "cell_type": "code",
   "execution_count": 5,
   "id": "43dc4147-af56-457e-b175-682bccf8f43e",
   "metadata": {},
   "outputs": [
    {
     "name": "stderr",
     "output_type": "stream",
     "text": [
      "2025-06-02 12:19:39 - [JubileeController] - DEBUG - Simulation mode: move_to(x=50, y=None, z=None, u=None, s=6000, param=None, wait=False)\n"
     ]
    }
   ],
   "source": [
    "jm.controller.move_to(x=50)"
   ]
  },
  {
   "cell_type": "code",
   "execution_count": 6,
   "id": "a5b1dd01-f7f4-4c92-9210-d8a753896ce2",
   "metadata": {},
   "outputs": [
    {
     "name": "stderr",
     "output_type": "stream",
     "text": [
      "2025-06-02 12:06:05 - [JubileeManager] - INFO - Unloading deck 'Deck1'.\n",
      "2025-06-02 12:06:05 - [Deck] - INFO - Loading deck configuration from: c:\\users\\damie\\onedrive\\bureau\\stage_sony_csl_corset_damien\\science-jubilee\\src\\science_jubilee\\decks\\deck_definition\\deck1.json\n",
      "2025-06-02 12:06:05 - [Deck] - INFO - Deck 'Deck1' loaded with 2 slots.\n",
      "2025-06-02 12:06:05 - [JubileeManager] - INFO - Deck 'Deck1' loaded from 'c:\\users\\damie\\onedrive\\bureau\\stage_sony_csl_corset_damien\\science-jubilee\\src\\science_jubilee\\decks\\deck_definition'.\n"
     ]
    },
    {
     "data": {
      "text/plain": [
       "<Deck name='Deck1', type='SLAS Non Official', slots=2>"
      ]
     },
     "execution_count": 6,
     "metadata": {},
     "output_type": "execute_result"
    }
   ],
   "source": [
    "jm.change_deck(\"deck1\")"
   ]
  },
  {
   "cell_type": "code",
   "execution_count": 7,
   "id": "2a7b0ffd-5b88-43ca-b503-fd85e0973926",
   "metadata": {},
   "outputs": [
    {
     "name": "stderr",
     "output_type": "stream",
     "text": [
      "2025-06-02 11:52:15 - [JubileeManager] - INFO - Unloading deck 'Deck1'.\n"
     ]
    }
   ],
   "source": [
    "jm.unload_deck()"
   ]
  },
  {
   "cell_type": "code",
   "execution_count": 8,
   "id": "c95ae89c-927c-45ac-ba26-41592cc481b5",
   "metadata": {},
   "outputs": [
    {
     "data": {
      "text/plain": [
       "False"
      ]
     },
     "execution_count": 8,
     "metadata": {},
     "output_type": "execute_result"
    }
   ],
   "source": [
    "jm.is_deck_loaded()"
   ]
  },
  {
   "cell_type": "code",
   "execution_count": 9,
   "id": "0c8d68a3-631e-4d46-8a8e-0191fbd8af60",
   "metadata": {},
   "outputs": [
    {
     "ename": "AttributeError",
     "evalue": "'NoneType' object has no attribute 'get_summary'",
     "output_type": "error",
     "traceback": [
      "\u001b[1;31m---------------------------------------------------------------------------\u001b[0m",
      "\u001b[1;31mAttributeError\u001b[0m                            Traceback (most recent call last)",
      "Cell \u001b[1;32mIn[9], line 1\u001b[0m\n\u001b[1;32m----> 1\u001b[0m \u001b[43mjm\u001b[49m\u001b[38;5;241;43m.\u001b[39;49m\u001b[43mdeck\u001b[49m\u001b[38;5;241;43m.\u001b[39;49m\u001b[43mget_summary\u001b[49m()\n",
      "\u001b[1;31mAttributeError\u001b[0m: 'NoneType' object has no attribute 'get_summary'"
     ]
    }
   ],
   "source": [
    "jm.deck.get_summary()"
   ]
  },
  {
   "cell_type": "code",
   "execution_count": 9,
   "id": "113cd547-97db-46ab-838d-2c6459237841",
   "metadata": {},
   "outputs": [
    {
     "name": "stderr",
     "output_type": "stream",
     "text": [
      "2025-06-02 12:14:12 - [Deck] - INFO - Labware 'greiner_24_wellplate_3300ul' loaded into slot 0.\n"
     ]
    },
    {
     "data": {
      "text/plain": [
       "wellPlate: greiner_24_wellplate_3300ul on 0"
      ]
     },
     "execution_count": 9,
     "metadata": {},
     "output_type": "execute_result"
    }
   ],
   "source": [
    "jm.deck.load_labware(0, \"greiner_24_wellplate_3300ul\")"
   ]
  },
  {
   "cell_type": "code",
   "execution_count": 11,
   "id": "4066a354-4e7e-4bf7-b087-b56e09a8e1e4",
   "metadata": {},
   "outputs": [
    {
     "ename": "AttributeError",
     "evalue": "'NoneType' object has no attribute 'unload_labware'",
     "output_type": "error",
     "traceback": [
      "\u001b[1;31m---------------------------------------------------------------------------\u001b[0m",
      "\u001b[1;31mAttributeError\u001b[0m                            Traceback (most recent call last)",
      "Cell \u001b[1;32mIn[11], line 1\u001b[0m\n\u001b[1;32m----> 1\u001b[0m \u001b[43mjm\u001b[49m\u001b[38;5;241;43m.\u001b[39;49m\u001b[43mdeck\u001b[49m\u001b[38;5;241;43m.\u001b[39;49m\u001b[43munload_labware\u001b[49m(\u001b[38;5;241m0\u001b[39m)\n",
      "\u001b[1;31mAttributeError\u001b[0m: 'NoneType' object has no attribute 'unload_labware'"
     ]
    }
   ],
   "source": [
    "jm.deck.unload_labware(0)"
   ]
  },
  {
   "cell_type": "code",
   "execution_count": 12,
   "id": "6b9df250-3c7b-4a82-bac3-91bd69d80027",
   "metadata": {},
   "outputs": [
    {
     "ename": "AttributeError",
     "evalue": "'NoneType' object has no attribute 'is_labware_loaded'",
     "output_type": "error",
     "traceback": [
      "\u001b[1;31m---------------------------------------------------------------------------\u001b[0m",
      "\u001b[1;31mAttributeError\u001b[0m                            Traceback (most recent call last)",
      "Cell \u001b[1;32mIn[12], line 1\u001b[0m\n\u001b[1;32m----> 1\u001b[0m \u001b[43mjm\u001b[49m\u001b[38;5;241;43m.\u001b[39;49m\u001b[43mdeck\u001b[49m\u001b[38;5;241;43m.\u001b[39;49m\u001b[43mis_labware_loaded\u001b[49m(\u001b[38;5;241m0\u001b[39m)\n",
      "\u001b[1;31mAttributeError\u001b[0m: 'NoneType' object has no attribute 'is_labware_loaded'"
     ]
    }
   ],
   "source": [
    "jm.deck.is_labware_loaded(0)"
   ]
  },
  {
   "cell_type": "code",
   "execution_count": 13,
   "id": "86ae6259-4db3-498e-ac64-809e3dc0e036",
   "metadata": {},
   "outputs": [
    {
     "ename": "AttributeError",
     "evalue": "'NoneType' object has no attribute 'get_slot'",
     "output_type": "error",
     "traceback": [
      "\u001b[1;31m---------------------------------------------------------------------------\u001b[0m",
      "\u001b[1;31mAttributeError\u001b[0m                            Traceback (most recent call last)",
      "Cell \u001b[1;32mIn[13], line 1\u001b[0m\n\u001b[1;32m----> 1\u001b[0m \u001b[43mjm\u001b[49m\u001b[38;5;241;43m.\u001b[39;49m\u001b[43mdeck\u001b[49m\u001b[38;5;241;43m.\u001b[39;49m\u001b[43mget_slot\u001b[49m(\u001b[38;5;241m0\u001b[39m)\n",
      "\u001b[1;31mAttributeError\u001b[0m: 'NoneType' object has no attribute 'get_slot'"
     ]
    }
   ],
   "source": [
    "jm.deck.get_slot(0)"
   ]
  },
  {
   "cell_type": "markdown",
   "id": "ed9180d9-4b4f-44a5-85e3-e248951682ab",
   "metadata": {},
   "source": [
    "# Essai des fonctions Tool"
   ]
  },
  {
   "cell_type": "code",
   "execution_count": 7,
   "id": "6ba9159f-51ba-4448-992e-0fbf42ddee5e",
   "metadata": {},
   "outputs": [
    {
     "name": "stderr",
     "output_type": "stream",
     "text": [
      "2025-06-02 12:14:08 - [Deck] - INFO - Tool 'ARC0' (index 0) initialized.\n",
      "2025-06-02 12:14:08 - [Deck] - INFO - Tool 'ARC1' (index 1) initialized.\n",
      "2025-06-02 12:14:08 - [Deck] - INFO - Tool 'ARC2' (index 2) initialized.\n",
      "2025-06-02 12:14:08 - [Deck] - INFO - Tool 'ARC3' (index 3) initialized.\n",
      "2025-06-02 12:14:08 - [Deck] - INFO - Tool 'ARC4' (index 4) initialized.\n"
     ]
    }
   ],
   "source": [
    "tool0 = Tool(0,\"ARC0\")\n",
    "tool1 = Tool(1,\"ARC1\")\n",
    "tool2 = Tool(2,\"ARC2\")\n",
    "tool3 = Tool(3,\"ARC3\")\n",
    "tool4 = Tool(4,\"ARC4\")"
   ]
  },
  {
   "cell_type": "code",
   "execution_count": 8,
   "id": "3a27408a-144a-41b9-9984-30fe1b98e40d",
   "metadata": {},
   "outputs": [
    {
     "name": "stderr",
     "output_type": "stream",
     "text": [
      "2025-06-02 12:14:08 - [JubileeManager] - INFO - Tool 'ARC0' loaded at index 0.\n",
      "2025-06-02 12:14:08 - [JubileeManager] - INFO - Tool 'ARC1' loaded at index 1.\n",
      "2025-06-02 12:14:08 - [JubileeManager] - INFO - Tool 'ARC2' loaded at index 4.\n"
     ]
    }
   ],
   "source": [
    "jm.load_tool(tool0, 0)\n",
    "jm.load_tool(tool1, 1)\n",
    "jm.load_tool(tool2, 4)"
   ]
  },
  {
   "cell_type": "code",
   "execution_count": 16,
   "id": "0e55f9ae-7cea-4c84-9cf7-73eb2fab0bb8",
   "metadata": {},
   "outputs": [
    {
     "name": "stderr",
     "output_type": "stream",
     "text": [
      "2025-06-02 11:52:44 - [JubileeManager] - ERROR - A tool is already loaded at index 4.\n"
     ]
    },
    {
     "ename": "ToolStateError",
     "evalue": "A tool is already loaded at index 4.",
     "output_type": "error",
     "traceback": [
      "\u001b[1;31m---------------------------------------------------------------------------\u001b[0m",
      "\u001b[1;31mToolStateError\u001b[0m                            Traceback (most recent call last)",
      "Cell \u001b[1;32mIn[16], line 1\u001b[0m\n\u001b[1;32m----> 1\u001b[0m \u001b[43mjm\u001b[49m\u001b[38;5;241;43m.\u001b[39;49m\u001b[43mload_tool\u001b[49m\u001b[43m(\u001b[49m\u001b[43mtool2\u001b[49m\u001b[43m,\u001b[49m\u001b[43m \u001b[49m\u001b[38;5;241;43m4\u001b[39;49m\u001b[43m)\u001b[49m\n",
      "File \u001b[1;32mc:\\users\\damie\\onedrive\\bureau\\stage_sony_csl_corset_damien\\science-jubilee\\src\\science_jubilee\\JubileeManager.py:143\u001b[0m, in \u001b[0;36mJubileeManager.load_tool\u001b[1;34m(self, tool, index)\u001b[0m\n\u001b[0;32m    141\u001b[0m \u001b[38;5;28;01mif\u001b[39;00m index \u001b[38;5;129;01min\u001b[39;00m \u001b[38;5;28mself\u001b[39m\u001b[38;5;241m.\u001b[39mtools_list \u001b[38;5;129;01mand\u001b[39;00m \u001b[38;5;28mself\u001b[39m\u001b[38;5;241m.\u001b[39mtools_list[index] \u001b[38;5;129;01mis\u001b[39;00m \u001b[38;5;129;01mnot\u001b[39;00m \u001b[38;5;28;01mNone\u001b[39;00m:\n\u001b[0;32m    142\u001b[0m     logger\u001b[38;5;241m.\u001b[39merror(\u001b[38;5;124mf\u001b[39m\u001b[38;5;124m\"\u001b[39m\u001b[38;5;124mA tool is already loaded at index \u001b[39m\u001b[38;5;132;01m{\u001b[39;00mindex\u001b[38;5;132;01m}\u001b[39;00m\u001b[38;5;124m.\u001b[39m\u001b[38;5;124m\"\u001b[39m)\n\u001b[1;32m--> 143\u001b[0m     \u001b[38;5;28;01mraise\u001b[39;00m ToolStateError(\u001b[38;5;124mf\u001b[39m\u001b[38;5;124m\"\u001b[39m\u001b[38;5;124mA tool is already loaded at index \u001b[39m\u001b[38;5;132;01m{\u001b[39;00mindex\u001b[38;5;132;01m}\u001b[39;00m\u001b[38;5;124m.\u001b[39m\u001b[38;5;124m\"\u001b[39m)\n\u001b[0;32m    144\u001b[0m \u001b[38;5;28;01mif\u001b[39;00m \u001b[38;5;28many\u001b[39m(t \u001b[38;5;129;01mis\u001b[39;00m tool \u001b[38;5;28;01mfor\u001b[39;00m t \u001b[38;5;129;01min\u001b[39;00m \u001b[38;5;28mself\u001b[39m\u001b[38;5;241m.\u001b[39mtools_list\u001b[38;5;241m.\u001b[39mvalues() \u001b[38;5;28;01mif\u001b[39;00m t \u001b[38;5;129;01mis\u001b[39;00m \u001b[38;5;129;01mnot\u001b[39;00m \u001b[38;5;28;01mNone\u001b[39;00m):\n\u001b[0;32m    145\u001b[0m     logger\u001b[38;5;241m.\u001b[39merror(\u001b[38;5;124mf\u001b[39m\u001b[38;5;124m\"\u001b[39m\u001b[38;5;124mThis tool object is already loaded at another index.\u001b[39m\u001b[38;5;124m\"\u001b[39m)\n",
      "\u001b[1;31mToolStateError\u001b[0m: A tool is already loaded at index 4."
     ]
    }
   ],
   "source": [
    "jm.load_tool(tool2, 4)"
   ]
  },
  {
   "cell_type": "code",
   "execution_count": 17,
   "id": "82e77b81-f2d8-4f7f-84fa-a8b3bf6e30bb",
   "metadata": {},
   "outputs": [
    {
     "data": {
      "text/plain": [
       "[{'index': 0, 'name': 'ARC0'},\n",
       " {'index': 1, 'name': 'ARC1'},\n",
       " {'index': 4, 'name': 'ARC2'}]"
      ]
     },
     "execution_count": 17,
     "metadata": {},
     "output_type": "execute_result"
    }
   ],
   "source": [
    "jm.get_loaded_tools()"
   ]
  },
  {
   "cell_type": "code",
   "execution_count": 16,
   "id": "38627d6b-d1c2-401e-a6f7-b5c6012b950d",
   "metadata": {},
   "outputs": [
    {
     "data": {
      "text/plain": [
       "3"
      ]
     },
     "execution_count": 16,
     "metadata": {},
     "output_type": "execute_result"
    }
   ],
   "source": [
    "a[1].index"
   ]
  },
  {
   "cell_type": "code",
   "execution_count": 27,
   "id": "f2528018-3523-47b2-a0db-535dcc1ec1b5",
   "metadata": {},
   "outputs": [
    {
     "name": "stderr",
     "output_type": "stream",
     "text": [
      "2025-05-28 17:48:15 - [JubileeManager] - INFO - Tool 'ARC0' unloaded from index 0.\n",
      "2025-05-28 17:48:15 - [JubileeManager] - INFO - Tool 'ARC1' unloaded from index 1.\n",
      "2025-05-28 17:48:15 - [JubileeManager] - INFO - Tool 'ARC2' unloaded from index 4.\n"
     ]
    }
   ],
   "source": [
    "jm.unload_all_tools()"
   ]
  },
  {
   "cell_type": "code",
   "execution_count": 29,
   "id": "46cab5de-a1ea-45c3-9794-3e1e529c280b",
   "metadata": {},
   "outputs": [
    {
     "name": "stderr",
     "output_type": "stream",
     "text": [
      "2025-05-28 17:48:21 - [JubileeManager] - INFO - Tool 'ARC2' replaced by 'ARC3' at index 4.\n"
     ]
    }
   ],
   "source": [
    "jm.change_tool(tool3, 4)"
   ]
  },
  {
   "cell_type": "code",
   "execution_count": 34,
   "id": "7cdf3cf5-4d28-4cdd-a2d4-e06a088e9d25",
   "metadata": {},
   "outputs": [
    {
     "data": {
      "text/plain": [
       "{'index': 4,\n",
       " 'name': 'ARC3',\n",
       " 'tool': <science_jubilee.tools.Tool.Tool at 0x1e9ede38e50>}"
      ]
     },
     "execution_count": 34,
     "metadata": {},
     "output_type": "execute_result"
    }
   ],
   "source": [
    "jm.get_tool_by_name(\"ARC3\")"
   ]
  },
  {
   "cell_type": "code",
   "execution_count": 35,
   "id": "4016f0aa-6332-4f04-bc88-9b17cb81fcef",
   "metadata": {},
   "outputs": [
    {
     "data": {
      "text/plain": [
       "{'index': 4,\n",
       " 'name': 'ARC3',\n",
       " 'tool': <science_jubilee.tools.Tool.Tool at 0x1e9ede38e50>}"
      ]
     },
     "execution_count": 35,
     "metadata": {},
     "output_type": "execute_result"
    }
   ],
   "source": [
    "jm.get_tool(4)"
   ]
  },
  {
   "cell_type": "code",
   "execution_count": 36,
   "id": "65e1ae55-30b2-4da2-8f9d-8af10fad61ed",
   "metadata": {},
   "outputs": [
    {
     "name": "stderr",
     "output_type": "stream",
     "text": [
      "2025-05-28 17:49:16 - [JubileeManager] - INFO - Tool 'ARC0' unloaded from index 0.\n"
     ]
    }
   ],
   "source": [
    "jm.unload_tool(0)"
   ]
  },
  {
   "cell_type": "code",
   "execution_count": 15,
   "id": "60fa3a68-168a-412d-a147-a6eb663e4cdf",
   "metadata": {},
   "outputs": [
    {
     "name": "stderr",
     "output_type": "stream",
     "text": [
      "2025-06-02 12:15:43 - [JubileeManager] - ERROR - Tool index 7 out of bounds (0-4).\n"
     ]
    },
    {
     "ename": "ToolConfigurationError",
     "evalue": "Tool index 7 out of bounds (0-4).",
     "output_type": "error",
     "traceback": [
      "\u001b[1;31m---------------------------------------------------------------------------\u001b[0m",
      "\u001b[1;31mToolConfigurationError\u001b[0m                    Traceback (most recent call last)",
      "Cell \u001b[1;32mIn[15], line 1\u001b[0m\n\u001b[1;32m----> 1\u001b[0m \u001b[43mjm\u001b[49m\u001b[38;5;241;43m.\u001b[39;49m\u001b[43mis_tool_loaded\u001b[49m\u001b[43m(\u001b[49m\u001b[38;5;241;43m7\u001b[39;49m\u001b[43m)\u001b[49m\n",
      "File \u001b[1;32mc:\\users\\damie\\onedrive\\bureau\\stage_sony_csl_corset_damien\\science-jubilee\\src\\science_jubilee\\JubileeManager.py:226\u001b[0m, in \u001b[0;36mJubileeManager.is_tool_loaded\u001b[1;34m(self, index)\u001b[0m\n\u001b[0;32m    224\u001b[0m \u001b[38;5;28;01mif\u001b[39;00m \u001b[38;5;129;01mnot\u001b[39;00m (\u001b[38;5;241m0\u001b[39m \u001b[38;5;241m<\u001b[39m\u001b[38;5;241m=\u001b[39m index \u001b[38;5;241m<\u001b[39m \u001b[38;5;28mself\u001b[39m\u001b[38;5;241m.\u001b[39mMAX_TOOLS):\n\u001b[0;32m    225\u001b[0m     logger\u001b[38;5;241m.\u001b[39merror(\u001b[38;5;124mf\u001b[39m\u001b[38;5;124m\"\u001b[39m\u001b[38;5;124mTool index \u001b[39m\u001b[38;5;132;01m{\u001b[39;00mindex\u001b[38;5;132;01m}\u001b[39;00m\u001b[38;5;124m out of bounds (0-\u001b[39m\u001b[38;5;132;01m{\u001b[39;00m\u001b[38;5;28mself\u001b[39m\u001b[38;5;241m.\u001b[39mMAX_TOOLS\u001b[38;5;241m-\u001b[39m\u001b[38;5;241m1\u001b[39m\u001b[38;5;132;01m}\u001b[39;00m\u001b[38;5;124m).\u001b[39m\u001b[38;5;124m\"\u001b[39m)\n\u001b[1;32m--> 226\u001b[0m     \u001b[38;5;28;01mraise\u001b[39;00m ToolConfigurationError(\u001b[38;5;124mf\u001b[39m\u001b[38;5;124m\"\u001b[39m\u001b[38;5;124mTool index \u001b[39m\u001b[38;5;132;01m{\u001b[39;00mindex\u001b[38;5;132;01m}\u001b[39;00m\u001b[38;5;124m out of bounds (0-\u001b[39m\u001b[38;5;132;01m{\u001b[39;00m\u001b[38;5;28mself\u001b[39m\u001b[38;5;241m.\u001b[39mMAX_TOOLS\u001b[38;5;241m-\u001b[39m\u001b[38;5;241m1\u001b[39m\u001b[38;5;132;01m}\u001b[39;00m\u001b[38;5;124m).\u001b[39m\u001b[38;5;124m\"\u001b[39m)\n\u001b[0;32m    227\u001b[0m \u001b[38;5;28;01mreturn\u001b[39;00m \u001b[38;5;28mself\u001b[39m\u001b[38;5;241m.\u001b[39mtools_list\u001b[38;5;241m.\u001b[39mget(index) \u001b[38;5;129;01mis\u001b[39;00m \u001b[38;5;129;01mnot\u001b[39;00m \u001b[38;5;28;01mNone\u001b[39;00m\n",
      "\u001b[1;31mToolConfigurationError\u001b[0m: Tool index 7 out of bounds (0-4)."
     ]
    }
   ],
   "source": [
    "jm.is_tool_loaded(7)"
   ]
  },
  {
   "cell_type": "code",
   "execution_count": null,
   "id": "4ab9b752-ebd0-4144-927f-91c46404af6e",
   "metadata": {},
   "outputs": [],
   "source": []
  }
 ],
 "metadata": {
  "kernelspec": {
   "display_name": "Python 3 (ipykernel)",
   "language": "python",
   "name": "python3"
  },
  "language_info": {
   "codemirror_mode": {
    "name": "ipython",
    "version": 3
   },
   "file_extension": ".py",
   "mimetype": "text/x-python",
   "name": "python",
   "nbconvert_exporter": "python",
   "pygments_lexer": "ipython3",
   "version": "3.9.21"
  }
 },
 "nbformat": 4,
 "nbformat_minor": 5
}
