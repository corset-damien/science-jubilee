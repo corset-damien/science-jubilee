{
 "cells": [
  {
   "cell_type": "code",
   "execution_count": 1,
   "id": "0d365a6b-0dfd-497a-b137-537f3ceb8bad",
   "metadata": {},
   "outputs": [],
   "source": [
    "from science_jubilee.decks.Deck import Deck"
   ]
  },
  {
   "cell_type": "code",
   "execution_count": 2,
   "id": "90ec9576-817c-40af-90de-47532e251fe1",
   "metadata": {},
   "outputs": [
    {
     "data": {
      "text/plain": [
       "<Deck name='Deck1', type='SLAS Non Official', slots=2>"
      ]
     },
     "execution_count": 2,
     "metadata": {},
     "output_type": "execute_result"
    }
   ],
   "source": [
    "deck = Deck('deck1')\n",
    "deck"
   ]
  },
  {
   "cell_type": "code",
   "execution_count": 3,
   "id": "24a1a3fb-9a45-4326-a029-e71ddba738ad",
   "metadata": {},
   "outputs": [
    {
     "name": "stdout",
     "output_type": "stream",
     "text": [
      "Name: Deck1\n",
      "Description: Attempt1\n",
      "Type: SLAS Non Official\n",
      "Offset: (0.0, 0.0)\n",
      "Material: {'deck': '', 'mask': 'a'}\n",
      "Safe Z: 10.0\n"
     ]
    }
   ],
   "source": [
    "# 2. Afficher les propriétés principales du deck\n",
    "print(\"Name:\", deck.name)\n",
    "print(\"Description:\", deck.description)\n",
    "print(\"Type:\", deck.deck_type)\n",
    "print(\"Offset:\", deck.deck_offset)\n",
    "print(\"Material:\", deck.material)\n",
    "print(\"Safe Z:\", deck.safe_z)"
   ]
  },
  {
   "cell_type": "code",
   "execution_count": 4,
   "id": "132af738-4727-46e0-8e3d-5bf4f01f258a",
   "metadata": {},
   "outputs": [
    {
     "name": "stdout",
     "output_type": "stream",
     "text": [
      "All slots: ['0', '1']\n"
     ]
    }
   ],
   "source": [
    "# 3. Lister tous les slots\n",
    "print(\"All slots:\", deck.list_slots())"
   ]
  },
  {
   "cell_type": "code",
   "execution_count": 5,
   "id": "aee4360c-ac64-497d-947c-d1dc4f1f4de1",
   "metadata": {},
   "outputs": [
    {
     "data": {
      "text/plain": [
       "{'0': Slot(slot_index='0', coordinates=(100.0, 101.0), shape='rectangle', width=50.0, length=51.0, diameter=None, has_labware=False, labware=None),\n",
       " '1': Slot(slot_index='1', coordinates=(200.0, 200.0), shape='circle', width=None, length=None, diameter=50.0, has_labware=False, labware=None)}"
      ]
     },
     "execution_count": 5,
     "metadata": {},
     "output_type": "execute_result"
    }
   ],
   "source": [
    "deck.slots"
   ]
  },
  {
   "cell_type": "code",
   "execution_count": 8,
   "id": "b4de5d81-51c9-4761-8506-6f0ade422152",
   "metadata": {},
   "outputs": [
    {
     "name": "stdout",
     "output_type": "stream",
     "text": [
      "Labware loaded: wellPlate: greiner_24_wellplate_3300ul on 0\n",
      "Slot after loading labware: Slot(slot_index='0', coordinates=(100.0, 101.0), shape='rectangle', width=50.0, length=51.0, diameter=None, has_labware=True, labware=wellPlate: greiner_24_wellplate_3300ul on 0)\n"
     ]
    }
   ],
   "source": [
    "    labware = deck.load_labware(\"greiner_24_wellplate_3300ul\", slot=0)\n",
    "    print(\"Labware loaded:\", labware)\n",
    "    print(\"Slot after loading labware:\", deck.get_slot(0))"
   ]
  },
  {
   "cell_type": "code",
   "execution_count": null,
   "id": "3bf219cd-f824-4567-9d3d-0a393fd5443a",
   "metadata": {},
   "outputs": [],
   "source": []
  }
 ],
 "metadata": {
  "kernelspec": {
   "display_name": "Python 3 (ipykernel)",
   "language": "python",
   "name": "python3"
  },
  "language_info": {
   "codemirror_mode": {
    "name": "ipython",
    "version": 3
   },
   "file_extension": ".py",
   "mimetype": "text/x-python",
   "name": "python",
   "nbconvert_exporter": "python",
   "pygments_lexer": "ipython3",
   "version": "3.9.21"
  }
 },
 "nbformat": 4,
 "nbformat_minor": 5
}
