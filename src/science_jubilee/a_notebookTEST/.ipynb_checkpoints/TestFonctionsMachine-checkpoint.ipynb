{
 "cells": [
  {
   "cell_type": "code",
   "execution_count": 1,
   "id": "89f39ed4-9d96-43c3-90b9-1ad324df0af9",
   "metadata": {},
   "outputs": [],
   "source": [
    "# Import required modules\n",
    "from science_jubilee.Machine import Machine, get_root_dir\n",
    "\n",
    "from jinja2 import Environment, FileSystemLoader, select_autoescape"
   ]
  },
  {
   "cell_type": "code",
   "execution_count": 2,
   "id": "1d954aeb-57c3-4dfa-b847-4fa8a4dd4b66",
   "metadata": {},
   "outputs": [
    {
     "name": "stdout",
     "output_type": "stream",
     "text": [
      "Root directory: c:\\users\\damie\\onedrive\\bureau\\stage_sony_csl_corset_damien\\science-jubilee\\src\n"
     ]
    }
   ],
   "source": [
    "if __name__ == \"__main__\":\n",
    "    print(\"Root directory:\", get_root_dir())\n"
   ]
  },
  {
   "cell_type": "code",
   "execution_count": 3,
   "id": "a2f0f33a-cd11-45a4-b1b6-4db9e6a66ff8",
   "metadata": {},
   "outputs": [
    {
     "name": "stdout",
     "output_type": "stream",
     "text": [
      "Warning: disconnecting this application from the network will halt connection to Jubilee.\n"
     ]
    }
   ],
   "source": [
    "# Establish connection with machine\n",
    "m = Machine(address=\"10.0.9.63\") # edit the address as necessary"
   ]
  },
  {
   "cell_type": "code",
   "execution_count": 4,
   "id": "4bd9086e-d9af-4891-b43d-06f4ab404369",
   "metadata": {},
   "outputs": [
    {
     "ename": "NameError",
     "evalue": "name 'self' is not defined",
     "output_type": "error",
     "traceback": [
      "\u001b[1;31m---------------------------------------------------------------------------\u001b[0m",
      "\u001b[1;31mNameError\u001b[0m                                 Traceback (most recent call last)",
      "Cell \u001b[1;32mIn[4], line 1\u001b[0m\n\u001b[1;32m----> 1\u001b[0m a \u001b[38;5;241m=\u001b[39m \u001b[38;5;28;43mself\u001b[39;49m\u001b[38;5;241m.\u001b[39mgcode(\u001b[38;5;124m\"\u001b[39m\u001b[38;5;124mG28 X\u001b[39m\u001b[38;5;124m\"\u001b[39m)\n",
      "\u001b[1;31mNameError\u001b[0m: name 'self' is not defined"
     ]
    }
   ],
   "source": [
    "a = m.gcode(\"G28 X\")"
   ]
  },
  {
   "cell_type": "code",
   "execution_count": 6,
   "id": "93374101-cfa1-4cfa-8817-567721066ba1",
   "metadata": {},
   "outputs": [],
   "source": [
    "m.home_all()"
   ]
  },
  {
   "cell_type": "code",
   "execution_count": 8,
   "id": "9fa6db1a-9e3f-4e35-b4c8-afd50214dd6f",
   "metadata": {},
   "outputs": [],
   "source": [
    "m.home_xyu()"
   ]
  },
  {
   "cell_type": "code",
   "execution_count": 10,
   "id": "df9d0b5b-632b-496e-b944-5900e63aefd5",
   "metadata": {},
   "outputs": [],
   "source": [
    "m.move_to(x=100, wait=False)\n",
    "m.move_to(z=100, wait=False)"
   ]
  },
  {
   "cell_type": "code",
   "execution_count": 9,
   "id": "25d405b2-e803-4220-910f-0e4fc44107a7",
   "metadata": {},
   "outputs": [],
   "source": [
    "m.move_to(x=50, wait=True)\n",
    "m.move_to(z=50, wait=True)"
   ]
  },
  {
   "cell_type": "code",
   "execution_count": 11,
   "id": "3772c807-fbc3-4c6c-ab94-46be284938df",
   "metadata": {},
   "outputs": [],
   "source": [
    "m.move_to(x=0, y=0, z=0, s=6000)"
   ]
  },
  {
   "cell_type": "code",
   "execution_count": 5,
   "id": "6a6b517f-2d7f-417f-8d34-ce946ab397da",
   "metadata": {},
   "outputs": [],
   "source": [
    "# Test Locker\n",
    "m.tool_lock()\n",
    "m.tool_unlock()"
   ]
  },
  {
   "cell_type": "code",
   "execution_count": 14,
   "id": "d7ecf980-8393-4d69-85f6-333896d78784",
   "metadata": {},
   "outputs": [],
   "source": [
    "m.move(dz=50.0)"
   ]
  },
  {
   "cell_type": "code",
   "execution_count": 18,
   "id": "ce9252be-0fd6-406f-8285-bededa457c46",
   "metadata": {},
   "outputs": [
    {
     "ename": "NameError",
     "evalue": "name 'm' is not defined",
     "output_type": "error",
     "traceback": [
      "\u001b[1;31m---------------------------------------------------------------------------\u001b[0m",
      "\u001b[1;31mNameError\u001b[0m                                 Traceback (most recent call last)",
      "Cell \u001b[1;32mIn[18], line 1\u001b[0m\n\u001b[1;32m----> 1\u001b[0m \u001b[43mm\u001b[49m\u001b[38;5;241m.\u001b[39mget_position()\n",
      "\u001b[1;31mNameError\u001b[0m: name 'm' is not defined"
     ]
    }
   ],
   "source": [
    "m.get_position()"
   ]
  },
  {
   "cell_type": "code",
   "execution_count": 1,
   "id": "e24c2f1f-aa8a-4cba-9517-f172c6b0b4a0",
   "metadata": {},
   "outputs": [],
   "source": [
    "from JubileeController import JubileeController  # si tu as mis le code dans JubileeController.py"
   ]
  },
  {
   "cell_type": "code",
   "execution_count": 2,
   "id": "82e1cdae-7a31-4b14-ba05-b16e928b85b2",
   "metadata": {},
   "outputs": [
    {
     "name": "stdout",
     "output_type": "stream",
     "text": [
      "Warning: disconnecting this application from the network will halt connection to Jubilee.\n"
     ]
    }
   ],
   "source": [
    "controller = JubileeController(address=\"10.0.9.63\")"
   ]
  },
  {
   "cell_type": "code",
   "execution_count": 4,
   "id": "5e2d33da-ad54-4113-8785-e52124c3117b",
   "metadata": {},
   "outputs": [
    {
     "name": "stdin",
     "output_type": "stream",
     "text": [
      "Is there a tool currently mounted? [y/n]  n\n",
      "Is the deck free of obstacles? [y/n]  y\n"
     ]
    }
   ],
   "source": [
    "controller.home_all()"
   ]
  },
  {
   "cell_type": "code",
   "execution_count": 5,
   "id": "f52cd1e8-fecc-43c0-920a-6120f426e4a2",
   "metadata": {},
   "outputs": [],
   "source": [
    "controller.move_to(x=100, y=100, z=150, s=10000)"
   ]
  },
  {
   "cell_type": "code",
   "execution_count": 6,
   "id": "945d74a7-7a00-4ff1-873f-62f9c0a40d4e",
   "metadata": {},
   "outputs": [],
   "source": [
    "controller.move(dx=100, dy=100, dz=10, s=5000)"
   ]
  },
  {
   "cell_type": "code",
   "execution_count": 7,
   "id": "7585bcc5-463a-4fea-92d4-972516058eb3",
   "metadata": {},
   "outputs": [
    {
     "data": {
      "text/plain": [
       "{'X': 200.0, 'Y': 200.0, 'Z': 160.0, 'U': 0.0, 'V': 0.0, 'W': 0.0, 'E': 0.0}"
      ]
     },
     "execution_count": 7,
     "metadata": {},
     "output_type": "execute_result"
    }
   ],
   "source": [
    "controller.get_position()"
   ]
  },
  {
   "cell_type": "code",
   "execution_count": 8,
   "id": "7bd90fff-5864-47b1-aa5f-767c1c77a6b1",
   "metadata": {},
   "outputs": [
    {
     "data": {
      "text/plain": [
       "{'X': 200.0, 'Y': 200.0, 'Z': 160.0, 'U': 0.0, 'V': 0.0, 'W': 0.0, 'E': 0.0}"
      ]
     },
     "execution_count": 8,
     "metadata": {},
     "output_type": "execute_result"
    }
   ],
   "source": [
    "controller.position"
   ]
  },
  {
   "cell_type": "code",
   "execution_count": 9,
   "id": "3c85aef0-63d2-44e6-b9f4-74a65597d7e3",
   "metadata": {},
   "outputs": [
    {
     "data": {
      "text/plain": [
       "[(-13.75, 313.75),\n",
       " (-44.0, 345.0),\n",
       " (0, 320.0),\n",
       " (0, 200.0),\n",
       " (0, 90.0),\n",
       " (0, 90.0)]"
      ]
     },
     "execution_count": 9,
     "metadata": {},
     "output_type": "execute_result"
    }
   ],
   "source": [
    "controller.axis_limits"
   ]
  },
  {
   "cell_type": "code",
   "execution_count": 10,
   "id": "ff614141-ec6f-476d-bbdc-28eef62ac6ab",
   "metadata": {},
   "outputs": [
    {
     "data": {
      "text/plain": [
       "['X', 'Y', 'Z', 'U', 'V', 'W']"
      ]
     },
     "execution_count": 10,
     "metadata": {},
     "output_type": "execute_result"
    }
   ],
   "source": [
    "controller.configured_axes"
   ]
  },
  {
   "cell_type": "code",
   "execution_count": 11,
   "id": "53289e00-3e70-4550-9d43-42d6a5fab95f",
   "metadata": {},
   "outputs": [
    {
     "data": {
      "text/plain": [
       "{'Endstops - X': 'not stopped, Y: not stopped, Z: no endstop, U: at min stop, V: no endstop, W: no endstop, Z probe: not stopped'}"
      ]
     },
     "execution_count": 11,
     "metadata": {},
     "output_type": "execute_result"
    }
   ],
   "source": [
    "controller.endstops"
   ]
  },
  {
   "cell_type": "code",
   "execution_count": 12,
   "id": "8238d4b7-9adf-4798-8c79-bade155e77ea",
   "metadata": {},
   "outputs": [],
   "source": [
    "controller.tool_lock()\n",
    "controller.tool_unlock()"
   ]
  },
  {
   "cell_type": "code",
   "execution_count": 13,
   "id": "6cee22c3-c3bf-4dda-9fe8-bdf2740cc719",
   "metadata": {},
   "outputs": [],
   "source": [
    "controller.pickup_tool(1)\n",
    "controller.park_tool(2)\n",
    "controller.pickup_tool(2)\n",
    "controller.park_tool(3)"
   ]
  },
  {
   "cell_type": "code",
   "execution_count": 3,
   "id": "4ee15626-76de-4ad4-8409-db3662944bad",
   "metadata": {},
   "outputs": [
    {
     "name": "stdout",
     "output_type": "stream",
     "text": [
      "Reconnecting...\n"
     ]
    }
   ],
   "source": [
    "controller.reset()"
   ]
  },
  {
   "cell_type": "code",
   "execution_count": 14,
   "id": "8c1bb9d6-49c7-489c-9a8f-8fb60111fe18",
   "metadata": {},
   "outputs": [
    {
     "data": {
      "text/plain": [
       "{'X': 19.0, 'Y': 280.0, 'Z': 50.0, 'U': 0.0, 'V': 0.0, 'W': 0.0, 'E': 0.0}"
      ]
     },
     "execution_count": 14,
     "metadata": {},
     "output_type": "execute_result"
    }
   ],
   "source": [
    "controller.get_position()"
   ]
  },
  {
   "cell_type": "code",
   "execution_count": 6,
   "id": "4e4d64be-b8c5-4b4c-947e-c681dbc1f83d",
   "metadata": {},
   "outputs": [],
   "source": [
    "controller.pickup_tool(1)"
   ]
  }
 ],
 "metadata": {
  "kernelspec": {
   "display_name": "Python 3 (ipykernel)",
   "language": "python",
   "name": "python3"
  },
  "language_info": {
   "codemirror_mode": {
    "name": "ipython",
    "version": 3
   },
   "file_extension": ".py",
   "mimetype": "text/x-python",
   "name": "python",
   "nbconvert_exporter": "python",
   "pygments_lexer": "ipython3",
   "version": "3.9.21"
  }
 },
 "nbformat": 4,
 "nbformat_minor": 5
}
