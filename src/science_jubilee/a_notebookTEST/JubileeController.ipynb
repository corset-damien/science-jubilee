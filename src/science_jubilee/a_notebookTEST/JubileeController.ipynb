{
 "cells": [
  {
   "cell_type": "markdown",
   "id": "d15e984e",
   "metadata": {},
   "source": [
    "# JubileeController: Comprehensive Hardware Test Suite\n",
    "\n",
    "This notebook provides a **comprehensive, professional test suite** for the `JubileeController` class, running on real hardware (`simulated=False`).\n",
    "\n",
    "> **Warning:** This notebook will move the machine and operate the toolchanger. **Ensure the machine is clear, safe, and attended before running any cell.**\n",
    "\n",
    "All public methods are tested, with clear explanations and result displays. Logging is set to INFO for concise output. For simulation mode, use the corresponding simulation notebook."
   ]
  },
  {
   "cell_type": "code",
   "execution_count": 1,
   "id": "ca81970d",
   "metadata": {},
   "outputs": [
    {
     "name": "stderr",
     "output_type": "stream",
     "text": [
      "2025-06-04 12:57:55 - [JubileeController]  - INFO - Initializing JubileeController (simulated=True, address=10.0.9.55)\n",
      "2025-06-04 12:57:55 - [JubileeController]  - WARNING - Disconnecting this application from the network will halt connection to Jubilee.\n",
      "2025-06-04 12:57:55 - [JubileeController]  - INFO - Running in simulation mode. No connection established.\n"
     ]
    }
   ],
   "source": [
    "# --- Initialization and Connection ---\n",
    "from science_jubilee.JubileeController import JubileeController\n",
    "import logging\n",
    "\n",
    "# Set logger to INFO for concise output\n",
    "logging.getLogger(\"JubileeController\").setLevel(logging.INFO)\n",
    "\n",
    "# Instantiate the controller (real hardware)\n",
    "controller = JubileeController(address=\"10.0.9.55\", simulated=True)\n",
    "\n",
    "# The controller automatically connects on instantiation."
   ]
  },
  {
   "cell_type": "code",
   "execution_count": 2,
   "id": "8e29b0d1",
   "metadata": {},
   "outputs": [
    {
     "name": "stderr",
     "output_type": "stream",
     "text": [
      "2025-06-04 12:58:05 - [JubileeController]  - INFO - (SIMULATED) disconnect() called.\n"
     ]
    }
   ],
   "source": [
    "# --- Test: Disconnect ---\n",
    "# Test disconnecting from the machine. Should close the HTTP session and log the event.\n",
    "controller.disconnect()"
   ]
  },
  {
   "cell_type": "code",
   "execution_count": 3,
   "id": "5234cdee",
   "metadata": {},
   "outputs": [
    {
     "name": "stderr",
     "output_type": "stream",
     "text": [
      "2025-06-04 12:58:07 - [JubileeController]  - INFO - (SIMULATED) connect() called. Setting dummy state.\n"
     ]
    }
   ],
   "source": [
    "# --- Test: Reconnect ---\n",
    "# Test reconnecting to the machine after disconnecting.\n",
    "controller.connect()"
   ]
  },
  {
   "cell_type": "code",
   "execution_count": 4,
   "id": "6013d8be",
   "metadata": {},
   "outputs": [
    {
     "name": "stderr",
     "output_type": "stream",
     "text": [
      "2025-06-04 12:58:09 - [JubileeController]  - INFO - (SIMULATED) reset() called. Resetting dummy state.\n",
      "2025-06-04 12:58:09 - [JubileeController]  - INFO - (SIMULATED) connect() called. Setting dummy state.\n",
      "2025-06-04 12:58:09 - [JubileeController]  - INFO - (SIMULATED) reset complete.\n"
     ]
    }
   ],
   "source": [
    "# --- Test: Reset ---\n",
    "# Issue a software reset and ensure reconnection.\n",
    "controller.reset()"
   ]
  },
  {
   "cell_type": "code",
   "execution_count": 5,
   "id": "81c90eca",
   "metadata": {},
   "outputs": [
    {
     "name": "stdin",
     "output_type": "stream",
     "text": [
      "Is a tool currently mounted? [y/n]  n\n",
      "Is the deck clear of any obstacles? [y/n]  y\n"
     ]
    }
   ],
   "source": [
    "# --- Test: Home All Axes ---\n",
    "# Home all axes (X, Y, Z, U) safely. User confirmation is required for safety.\n",
    "controller.home_all()"
   ]
  },
  {
   "cell_type": "code",
   "execution_count": null,
   "id": "c3538b91",
   "metadata": {},
   "outputs": [],
   "source": [
    "# --- Test: Individual Axis Homing ---\n",
    "# Home each axis individually (U, Y, X, Z)\n",
    "controller._home_u()\n",
    "controller._home_y()\n",
    "controller._home_x()\n",
    "controller._home_z()\n",
    "# controller.home_xyu()  # Optionally home X, Y, U together"
   ]
  },
  {
   "cell_type": "code",
   "execution_count": null,
   "id": "fa174cdd-b7cf-4dc2-8d7b-480401b5cbcc",
   "metadata": {},
   "outputs": [],
   "source": [
    "# --- Test: Fake Home (Dangerous, for advanced users) ---\n",
    "# This forcibly sets axes as homed without physical movement. Should raise on real hardware.\n",
    "try:\n",
    "    controller.fake_home(\"X\", \"Y\", \"Z\", \"U\", confirm=True)\n",
    "except Exception as e:\n",
    "    print(f\"Expected error (fake_home on hardware): {e}\")"
   ]
  },
  {
   "cell_type": "markdown",
   "id": "b064d8a0",
   "metadata": {},
   "source": [
    "## Motion and Positioning\n",
    "\n",
    "Test absolute and relative moves, as well as dwell (pause)."
   ]
  },
  {
   "cell_type": "code",
   "execution_count": 6,
   "id": "8292da4e",
   "metadata": {},
   "outputs": [
    {
     "name": "stderr",
     "output_type": "stream",
     "text": [
      "2025-06-04 12:58:22 - [JubileeController]  - INFO - (SIMULATED) move_to(x=110, y=120, z=130, u=0, s=5000, param=None, wait=True)\n",
      "2025-06-04 12:58:22 - [JubileeController]  - INFO - (SIMULATED) dwell(t=3000, millis=True)\n",
      "2025-06-04 12:58:22 - [JubileeController]  - INFO - (SIMULATED) move(dx=10, dy=20, dz=30, du=0, s=1000, param=None, wait=True)\n"
     ]
    },
    {
     "name": "stdout",
     "output_type": "stream",
     "text": [
      "Current position: {'X': 0.0, 'Y': 0.0, 'Z': 0.0, 'U': 0.0}\n"
     ]
    }
   ],
   "source": [
    "# --- Test: Absolute Move ---\n",
    "controller.move_to(x=110, y=120, z=130, u=0, s=5000, wait=True)\n",
    "\n",
    "# --- Test: Dwell (Pause) ---\n",
    "controller.dwell(3000)  # Pause for 3 seconds\n",
    "\n",
    "# --- Test: Relative Move ---\n",
    "controller.move(dx=10, dy=20, dz=30, du=0, s=1000, wait=True)\n",
    "\n",
    "# Display current position after moves\n",
    "print(\"Current position:\", controller.get_position())"
   ]
  },
  {
   "cell_type": "code",
   "execution_count": 14,
   "id": "7e804598",
   "metadata": {},
   "outputs": [],
   "source": [
    "# --- Test: Tool Lock/Unlock Macros ---\n",
    "# This section tests the tool lock and unlock macros.\n",
    "controller.tool_lock_macro()\n",
    "controller.tool_unlock_macro()\n",
    "\n",
    "# --- Test: Generic Tool Lock/Unlock ---\n",
    "# This section tests the generic tool lock and unlock functions.\n",
    "controller.tool_lock()\n",
    "controller.tool_unlock()"
   ]
  },
  {
   "cell_type": "code",
   "execution_count": 7,
   "id": "8944c859-e769-4703-a4e6-36c19b7bebd8",
   "metadata": {},
   "outputs": [],
   "source": [
    "# --- Test: Pickup and Park Tool Macros (for all tool slots) ---\n",
    "# This section tests the pickup and park tool macros for all tool slots.\n",
    "for idx in range(4):\n",
    "    controller.pickup_tool_macro(idx)\n",
    "    controller.park_tool_macro(idx)"
   ]
  },
  {
   "cell_type": "markdown",
   "id": "274f97a8",
   "metadata": {},
   "source": [
    "## Tool Change Sequences\n",
    "\n",
    "Test full pickup and park sequences for each tool slot."
   ]
  },
  {
   "cell_type": "code",
   "execution_count": null,
   "id": "e91a9b24",
   "metadata": {},
   "outputs": [],
   "source": [
    "# --- Test: Tool Pickup and Park Sequences ---\n",
    "# This test iterates over a range of 4, representing 4 different tools.\n",
    "# For each tool, it executes the pickup and park sequences, which are\n",
    "# assumed to be defined in the 'controller' object.\n",
    "\n",
    "for idx in range(4):\n",
    "    # Execute the pickup sequence for the current tool.\n",
    "    controller.pickup_tool_sequence(idx)\n",
    "    \n",
    "    # Execute the park sequence for the current tool.\n",
    "    controller.park_tool_sequence(idx)"
   ]
  },
  {
   "cell_type": "markdown",
   "id": "a5d6efa2",
   "metadata": {},
   "source": [
    "## Status Readers & Properties\n",
    "\n",
    "Test reading axes, limits, position, and endstop states."
   ]
  },
  {
   "cell_type": "code",
   "execution_count": null,
   "id": "e6e689fc",
   "metadata": {},
   "outputs": [],
   "source": [
    "# --- Test: Status Readers ---\n",
    "axes = controller.get_configured_axes()\n",
    "limits = controller.get_axis_limits()\n",
    "pos = controller.get_position()\n",
    "endstops = controller.get_endstops()\n",
    "\n",
    "print(\"Configured axes:\", axes)\n",
    "print(\"Axis limits:\", limits)\n",
    "print(\"Current position:\", pos)\n",
    "print(\"Endstop states:\", endstops)"
   ]
  },
  {
   "cell_type": "markdown",
   "id": "3a49bf14",
   "metadata": {},
   "source": [
    "## G-code Communication (Direct)\n",
    "\n",
    "Test sending a raw G-code command and display the response."
   ]
  },
  {
   "cell_type": "code",
   "execution_count": null,
   "id": "9f859353",
   "metadata": {},
   "outputs": [],
   "source": [
    "# --- Test: Direct G-code Command ---\n",
    "resp = controller.gcode(\"M114\")\n",
    "print(\"G-code M114 response:\", resp)"
   ]
  },
  {
   "cell_type": "markdown",
   "id": "5e415ebc",
   "metadata": {},
   "source": [
    "## All Methods Successfully Tested\n",
    "\n",
    "If you see no errors above, all public methods of `JubileeController` are working correctly on real hardware.\n",
    "\n",
    "---\n",
    "\n",
    "**For simulation mode, change \"simulated=True\" in the JubileeController constructor.**"
   ]
  }
 ],
 "metadata": {
  "kernelspec": {
   "display_name": "Python 3 (ipykernel)",
   "language": "python",
   "name": "python3"
  },
  "language_info": {
   "codemirror_mode": {
    "name": "ipython",
    "version": 3
   },
   "file_extension": ".py",
   "mimetype": "text/x-python",
   "name": "python",
   "nbconvert_exporter": "python",
   "pygments_lexer": "ipython3",
   "version": "3.9.21"
  }
 },
 "nbformat": 4,
 "nbformat_minor": 5
}
