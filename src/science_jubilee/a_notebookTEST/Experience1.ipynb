{
 "cells": [
  {
   "cell_type": "code",
   "execution_count": 1,
   "id": "4917ed5f-14ff-413a-8a4d-52adf5343871",
   "metadata": {},
   "outputs": [],
   "source": [
    "from science_jubilee.JubileeManager import JubileeManager\n",
    "#from science_jubilee.tools.Camera import Camera\n",
    "from science_jubilee.tools.Tool import Tool"
   ]
  },
  {
   "cell_type": "code",
   "execution_count": 2,
   "id": "dfe2dda8-2169-434d-931b-bdd725a8b263",
   "metadata": {},
   "outputs": [
    {
     "name": "stderr",
     "output_type": "stream",
     "text": [
      "2025-06-04 12:58:54 - [JubileeController]  - INFO - Initializing JubileeController (simulated=True, address=10.0.9.55)\n",
      "2025-06-04 12:58:54 - [JubileeController]  - WARNING - Disconnecting this application from the network will halt connection to Jubilee.\n",
      "2025-06-04 12:58:54 - [JubileeController]  - INFO - Running in simulation mode. No connection established.\n",
      "2025-06-04 12:58:54 - [JubileeManager]     - INFO - JubileeManager initialized (simulated=True, max_tools=4).\n"
     ]
    }
   ],
   "source": [
    "# Connexion à la Jubilee\n",
    "jm = JubileeManager(address=\"10.0.9.55\", simulated=True)"
   ]
  },
  {
   "cell_type": "code",
   "execution_count": 3,
   "id": "d7991b73-2b9e-400c-83f2-7523ce62ce2f",
   "metadata": {},
   "outputs": [
    {
     "name": "stdin",
     "output_type": "stream",
     "text": [
      "Is a tool currently mounted? [y/n]  n\n",
      "Is the deck clear of any obstacles? [y/n]  y\n"
     ]
    },
    {
     "name": "stderr",
     "output_type": "stream",
     "text": [
      "2025-06-04 11:06:20 - [JubileeController]  - INFO - All axes homed successfully.\n"
     ]
    }
   ],
   "source": [
    "# Homing\n",
    "jm.controller.home_all()"
   ]
  },
  {
   "cell_type": "markdown",
   "id": "9d1febf3-89b4-4003-9412-9fbac1f734f9",
   "metadata": {},
   "source": [
    "# Preparation de l'expérience : \n",
    "- 1 Placer le deck d'expérience et l'enregistrer\n",
    "- 2 Placer les outils nécéssaires et les enregistrer"
   ]
  },
  {
   "cell_type": "code",
   "execution_count": 3,
   "id": "5aceef3a-b5df-4cde-83fe-5f15a0dc986c",
   "metadata": {},
   "outputs": [
    {
     "name": "stderr",
     "output_type": "stream",
     "text": [
      "2025-06-04 12:59:00 - [JubileeController]  - INFO - (SIMULATED) move_to(x=None, y=None, z=300, u=None, s=6000, param=None, wait=False)\n",
      "2025-06-04 12:59:00 - [JubileeController]  - INFO - (SIMULATED) move_to(x=150, y=150, z=None, u=None, s=6000, param=None, wait=False)\n"
     ]
    }
   ],
   "source": [
    "# Descendre le plateau pour positionner le deck\n",
    "jm.controller.move_to(z=300)\n",
    "jm.controller.move_to(x=150, y=150)"
   ]
  },
  {
   "cell_type": "code",
   "execution_count": 4,
   "id": "d3664f0d-7ec8-49db-baec-b88bc8c8910c",
   "metadata": {},
   "outputs": [
    {
     "name": "stderr",
     "output_type": "stream",
     "text": [
      "2025-06-04 12:59:00 - [Deck]               - INFO - Loading deck configuration from: c:\\users\\damie\\onedrive\\bureau\\stage_sony_csl_corset_damien\\science-jubilee\\src\\science_jubilee\\decks\\deck_definition\\experience1.json\n",
      "2025-06-04 12:59:00 - [Deck]               - INFO - Deck 'Experience1' loaded with 7 slots.\n",
      "2025-06-04 12:59:00 - [JubileeManager]     - INFO - Deck 'Experience1' loaded from 'c:\\users\\damie\\onedrive\\bureau\\stage_sony_csl_corset_damien\\science-jubilee\\src\\science_jubilee\\decks\\deck_definition'.\n"
     ]
    }
   ],
   "source": [
    "# Enregistrer le deck\n",
    "deck = jm.load_deck(\"experience1\")"
   ]
  },
  {
   "cell_type": "code",
   "execution_count": 7,
   "id": "e3b42e4d-5656-4640-86db-026277f6cb03",
   "metadata": {},
   "outputs": [
    {
     "name": "stderr",
     "output_type": "stream",
     "text": [
      "2025-06-04 12:59:14 - [Deck]               - INFO - Labware unloaded from slot '0'.\n",
      "2025-06-04 12:59:14 - [Deck]               - INFO - Labware unloaded from slot '1'.\n",
      "2025-06-04 12:59:14 - [Deck]               - INFO - Labware unloaded from slot '2'.\n",
      "2025-06-04 12:59:14 - [Deck]               - INFO - Labware unloaded from slot '3'.\n"
     ]
    }
   ],
   "source": [
    "jm.deck.unload_all_labware()"
   ]
  },
  {
   "cell_type": "code",
   "execution_count": 6,
   "id": "f64ae868-2046-4373-b5c5-08f53fa1c02d",
   "metadata": {},
   "outputs": [
    {
     "name": "stderr",
     "output_type": "stream",
     "text": [
      "2025-06-04 12:59:11 - [Deck]               - INFO - Labware 'greiner_24_wellplate_3300ul_orth.json' loaded into slot 0.\n",
      "2025-06-04 12:59:11 - [Deck]               - INFO - Labware 'greiner_24_wellplate_3300ul_orth.json' loaded into slot 1.\n",
      "2025-06-04 12:59:11 - [Deck]               - INFO - Labware 'greiner_24_wellplate_3300ul_orth.json' loaded into slot 2.\n",
      "2025-06-04 12:59:11 - [Deck]               - INFO - Labware 'greiner_24_wellplate_3300ul_orth.json' loaded into slot 3.\n"
     ]
    }
   ],
   "source": [
    "# Enregistrer les labwares sur le deck\n",
    "labware0 = jm.deck.load_labware(slot=0, labware_filename=\"greiner_24_wellplate_3300ul_orth.json\", order=\"rows\") # Ca change rien rows ou columns ??\n",
    "labware1 = jm.deck.load_labware(slot=1, labware_filename=\"greiner_24_wellplate_3300ul_orth.json\", order=\"rows\")\n",
    "labware2 = jm.deck.load_labware(slot=2, labware_filename=\"greiner_24_wellplate_3300ul_orth.json\", order=\"rows\")\n",
    "labware3 = jm.deck.load_labware(slot=3, labware_filename=\"greiner_24_wellplate_3300ul_orth.json\", order=\"rows\")\n",
    "\n",
    "#labware4 = jm.deck.load_labware(slot=4, labware_filename=\"greiner_24_wellplate_3300ul_orth.json\", order=\"rows\")\n",
    "#labware5 = jm.deck.load_labware(slot=5, labware_filename=\"greiner_24_wellplate_3300ul_orth.json\", order=\"rows\")\n",
    "#labware6 = jm.deck.load_labware(slot=6, labware_filename=\"greiner_24_wellplate_3300ul_orth.json\", order=\"rows\")"
   ]
  },
  {
   "cell_type": "code",
   "execution_count": 8,
   "id": "ba2772bf-e19b-4558-8c28-24d0192c14ac",
   "metadata": {},
   "outputs": [
    {
     "name": "stdout",
     "output_type": "stream",
     "text": [
      "Well A1: x=15.0, y=15.0, z=2.5\n",
      "Well B1: x=34.5, y=15.0, z=2.5\n",
      "Well C1: x=54.0, y=15.0, z=2.5\n",
      "Well D1: x=73.5, y=15.0, z=2.5\n",
      "Well A2: x=15.0, y=34.5, z=2.5\n",
      "Well B2: x=34.5, y=34.5, z=2.5\n",
      "Well C2: x=54.0, y=34.5, z=2.5\n",
      "Well D2: x=73.5, y=34.5, z=2.5\n",
      "Well A3: x=15.0, y=54.0, z=2.5\n",
      "Well B3: x=34.5, y=54.0, z=2.5\n",
      "Well C3: x=54.0, y=54.0, z=2.5\n",
      "Well D3: x=73.5, y=54.0, z=2.5\n",
      "Well A4: x=15.0, y=73.5, z=2.5\n",
      "Well B4: x=34.5, y=73.5, z=2.5\n",
      "Well C4: x=54.0, y=73.5, z=2.5\n",
      "Well D4: x=73.5, y=73.5, z=2.5\n",
      "Well A5: x=15.0, y=93.0, z=2.5\n",
      "Well B5: x=34.5, y=93.0, z=2.5\n",
      "Well C5: x=54.0, y=93.0, z=2.5\n",
      "Well D5: x=73.5, y=93.0, z=2.5\n",
      "Well A6: x=15.0, y=112.5, z=2.5\n",
      "Well B6: x=34.5, y=112.5, z=2.5\n",
      "Well C6: x=54.0, y=112.5, z=2.5\n",
      "Well D6: x=73.5, y=112.5, z=2.5\n"
     ]
    }
   ],
   "source": [
    "for well_name, well in labware0.wells.items():\n",
    "    print(f\"Well {well_name}: x={well.x}, y={well.y}, z={well.z}\")"
   ]
  },
  {
   "cell_type": "code",
   "execution_count": 9,
   "id": "5ca49dbd-3ee9-4491-8863-d3ab44db945e",
   "metadata": {},
   "outputs": [
    {
     "name": "stderr",
     "output_type": "stream",
     "text": [
      "2025-06-04 12:59:18 - [Tool]               - INFO - Tool 'Camera' (index 0) initialized.\n",
      "2025-06-04 12:59:18 - [JubileeManager]     - INFO - Tool 'Camera' loaded at index 0.\n",
      "2025-06-04 12:59:18 - [JubileeManager]     - INFO - Offset for tool at index 0 set to (0, -43.5, 0).\n"
     ]
    }
   ],
   "source": [
    "# Enregistrer les outils\n",
    "tool0 = Tool(0, \"Camera\")\n",
    "jm.load_tool(tool0, 0)\n",
    "jm.set_tool_offset(0, (0, -43.5,0))"
   ]
  },
  {
   "cell_type": "code",
   "execution_count": 9,
   "id": "2e9e3c3e-db1d-4233-8371-cf436d9121b9",
   "metadata": {},
   "outputs": [
    {
     "data": {
      "text/plain": [
       "{'deck': 'Experience1',\n",
       " 'tools': [{'index': 0, 'name': 'Camera'}],\n",
       " 'active_tool_index': None,\n",
       " 'active_tool_name': None,\n",
       " 'tool_offsets': {0: (0, -43.5, 0)}}"
      ]
     },
     "execution_count": 9,
     "metadata": {},
     "output_type": "execute_result"
    }
   ],
   "source": [
    "jm.status()"
   ]
  },
  {
   "cell_type": "code",
   "execution_count": 10,
   "id": "8dfcf8ff-1f20-4b47-870d-0fc9a797c662",
   "metadata": {},
   "outputs": [
    {
     "name": "stderr",
     "output_type": "stream",
     "text": [
      "2025-06-04 11:06:54 - [JubileeManager]     - INFO - Tool 'Camera' at index 0 set as active tool.\n"
     ]
    }
   ],
   "source": [
    "jm.set_active_tool_by_name(\"Camera\")"
   ]
  },
  {
   "cell_type": "code",
   "execution_count": 11,
   "id": "bff14386-f8c5-4cd0-9758-a479f93c1683",
   "metadata": {},
   "outputs": [
    {
     "data": {
      "text/plain": [
       "(8.5, 12.5)"
      ]
     },
     "execution_count": 11,
     "metadata": {},
     "output_type": "execute_result"
    }
   ],
   "source": [
    "jm.deck.get_slot_coordinates(0)"
   ]
  },
  {
   "cell_type": "code",
   "execution_count": 12,
   "id": "fbccf10d-5739-4245-bdbc-639dadd02b18",
   "metadata": {},
   "outputs": [
    {
     "data": {
      "text/plain": [
       "{'0': (8.5, 12.5),\n",
       " '1': (8.5, 150.0),\n",
       " '2': (201.5, 12.5),\n",
       " '3': (201.5, 150.0),\n",
       " '4': (150.0, 45.0),\n",
       " '5': (150.0, 145.0),\n",
       " '6': (150.0, 245.0)}"
      ]
     },
     "execution_count": 12,
     "metadata": {},
     "output_type": "execute_result"
    }
   ],
   "source": [
    "jm.deck.get_all_slot_machine_coordinates()"
   ]
  },
  {
   "cell_type": "code",
   "execution_count": 13,
   "id": "1e759646-1062-40a0-bb0d-2e63b2d4e668",
   "metadata": {},
   "outputs": [
    {
     "name": "stdout",
     "output_type": "stream",
     "text": [
      "(216.5, 27.5, 2.5)\n"
     ]
    }
   ],
   "source": [
    "a = jm.deck.get_well_machine_coordinates(2,\"A1\")\n",
    "print(a)"
   ]
  },
  {
   "cell_type": "code",
   "execution_count": 14,
   "id": "a51cc9e1-d318-4b53-b6d5-6cb0d0edc412",
   "metadata": {},
   "outputs": [
    {
     "data": {
      "text/plain": [
       "(15.0, 15.0, 2.5)"
      ]
     },
     "execution_count": 14,
     "metadata": {},
     "output_type": "execute_result"
    }
   ],
   "source": [
    "labware2.get_well_coordinates(\"A1\")"
   ]
  },
  {
   "cell_type": "markdown",
   "id": "9b474135-36a0-4102-8103-75bc7e45b366",
   "metadata": {},
   "source": [
    "# Debut de l'expérience : "
   ]
  },
  {
   "cell_type": "code",
   "execution_count": 11,
   "id": "79bf0132-a6a5-4f6c-87a6-8e347a56be1a",
   "metadata": {},
   "outputs": [
    {
     "name": "stderr",
     "output_type": "stream",
     "text": [
      "2025-06-04 12:59:24 - [JubileeController]  - INFO - Starting pickup_tool sequence for tool 0.\n",
      "2025-06-04 12:59:24 - [JubileeController]  - INFO - (SIMULATED) pickup_tool_sequence(index=0, z_park=None)\n",
      "2025-06-04 12:59:24 - [JubileeController]  - INFO - (SIMULATED) move_to(x=None, y=None, z=100, u=None, s=6000, param=None, wait=False)\n",
      "2025-06-04 12:59:24 - [JubileeController]  - INFO - (SIMULATED) move_to(x=None, y=None, z=100, u=None, s=6000, param=None, wait=False)\n",
      "2025-06-04 12:59:24 - [JubileeController]  - INFO - Starting park_tool sequence for tool 0.\n",
      "2025-06-04 12:59:24 - [JubileeController]  - INFO - (SIMULATED) park_tool_sequence(index=0, z_park=None)\n"
     ]
    }
   ],
   "source": [
    "for repeat in range(1):\n",
    "    \n",
    "    # Raise LED panels + turn off LEDs\n",
    "\n",
    "\n",
    "    jm.controller.pickup_tool_sequence(0)\n",
    "    jm.controller.move_to(z=100)\n",
    "\n",
    "    for slot_index in jm.deck.list_slots():\n",
    "        slot = jm.deck.get_slot(slot_index)\n",
    "        if slot.has_labware and slot.labware is not None:\n",
    "            labware = slot.labware\n",
    "            for well_name in labware.wells:\n",
    "                x, y, z = jm.deck.get_well_machine_coordinates(slot_index, well_name)\n",
    "                print(f\"Slot {slot_index} - Well {well_name}: x={x}, y={y}, z={z}\")\n",
    "                jm.move_active_tool_effector_to(x, y, z=60, s=5000, wait=True)\n",
    "                # take_picture()\n",
    "\n",
    "    jm.controller.move_to(z=100)\n",
    "    jm.controller.park_tool_sequence(0)\n",
    "    \n",
    "    # Lower LED panels + turn on light"
   ]
  },
  {
   "cell_type": "code",
   "execution_count": 16,
   "id": "5dba4126-18e9-4f0c-84b0-5356770b8a65",
   "metadata": {},
   "outputs": [
    {
     "data": {
      "image/png": "[encoded data removed]",
      "text/plain": [
       "<Figure size 800x800 with 1 Axes>"
      ]
     },
     "metadata": {},
     "output_type": "display_data"
    }
   ],
   "source": [
    "import matplotlib.pyplot as plt\n",
    "import matplotlib.patches as patches\n",
    "\n",
    "# Remplir ces listes avec tes données\n",
    "slot_xs, slot_ys, slot_labels = [], [], []\n",
    "well_xs, well_ys, well_labels = [], [], []\n",
    "\n",
    "# Exemple d'utilisation avec un objet jm (JubileeManager)\n",
    "for slot_index in jm.deck.list_slots():\n",
    "    # Machine coordinates of the slot center\n",
    "    slot_x, slot_y = jm.deck.get_slot_machine_coordinates(slot_index)\n",
    "    slot_xs.append(slot_x)\n",
    "    slot_ys.append(slot_y)\n",
    "    slot_labels.append(f\"Slot {slot_index}\")\n",
    "\n",
    "    slot = jm.deck.get_slot(slot_index)\n",
    "    if slot.has_labware and slot.labware is not None:\n",
    "        for well_name in slot.labware.wells:\n",
    "            coords = jm.deck.get_well_machine_coordinates(slot_index, well_name)\n",
    "            if coords is not None:\n",
    "                well_xs.append(coords[0])\n",
    "                well_ys.append(coords[1])\n",
    "                well_labels.append(f\"{slot_index}:{well_name}\")\n",
    "\n",
    "plt.figure(figsize=(8, 8))\n",
    "ax = plt.gca()\n",
    "\n",
    "# Add the deck (green rectangle)\n",
    "deck_rect = patches.Rectangle((0, 0), 305, 305, linewidth=1.5, edgecolor='green', facecolor='none', linestyle='--', label='Deck')\n",
    "ax.add_patch(deck_rect)\n",
    "\n",
    "plt.scatter(slot_xs, slot_ys, c='r', marker='s', label='Slots')\n",
    "for x, y, label in zip(slot_xs, slot_ys, slot_labels):\n",
    "    plt.text(x, y - 3, label, fontsize=10, ha='center', va='top', color='red')\n",
    "plt.scatter(well_xs, well_ys, c='b', marker='o', label='Wells')\n",
    "for x, y, label in zip(well_xs, well_ys, well_labels):\n",
    "    plt.text(x, y, label, fontsize=8, ha='right', va='bottom', color='blue')\n",
    "\n",
    "plt.xlabel('X (mm)')\n",
    "plt.ylabel('Y (mm)')\n",
    "plt.title('2D map of deck slots and wells (machine coordinates)')\n",
    "plt.xlim(0, 305)\n",
    "plt.ylim(0, 305)\n",
    "plt.axis('equal')\n",
    "plt.grid(True)\n",
    "plt.legend()\n",
    "plt.show()"
   ]
  },
  {
   "cell_type": "code",
   "execution_count": null,
   "id": "d93ff954-baed-4d7e-9692-32890ed37d61",
   "metadata": {},
   "outputs": [],
   "source": []
  }
 ],
 "metadata": {
  "kernelspec": {
   "display_name": "Python 3 (ipykernel)",
   "language": "python",
   "name": "python3"
  },
  "language_info": {
   "codemirror_mode": {
    "name": "ipython",
    "version": 3
   },
   "file_extension": ".py",
   "mimetype": "text/x-python",
   "name": "python",
   "nbconvert_exporter": "python",
   "pygments_lexer": "ipython3",
   "version": "3.9.21"
  }
 },
 "nbformat": 4,
 "nbformat_minor": 5
}
